{
  "cells": [
    {
      "cell_type": "markdown",
      "metadata": {
        "id": "WI820A_Bp_NH"
      },
      "source": [
        "# Assignment 4\n",
        "\n",
        "\n",
        "\n",
        "# Maxon Yin\n",
        "# my2883\n",
        "\n",
        "\n"
      ]
    },
    {
      "cell_type": "markdown",
      "metadata": {
        "id": "ekyShyt91xTn"
      },
      "source": [
        "# Exercises\n",
        "\n",
        "\n",
        "\n"
      ]
    },
    {
      "cell_type": "markdown",
      "metadata": {
        "id": "iWZRPwCw1xTo"
      },
      "source": [
        "**1. Data Cleaning**\n",
        "\n",
        "You will work with the same dataset as in Assigment 1.\n",
        "The dataset has address\n",
        "\n",
        "`url='https://github.com/amoreira2/Fin418/blob/main/assets/data/Assignment1.xlsx?raw=true'`\n",
        "\n",
        "Do the followings:\n",
        "\n",
        "- Import pandas, numpy, matplotlib, and load the data set.\n",
        "- Import the datasets of industry returns and risk free rate.\n",
        "- Parse the date.\n",
        "- Set the index.\n",
        "- Drop missing observations.\n",
        "- Construct a dataframe with only excess returns.\n",
        "- Call this dataframe with the 49 excess returns time series `df`.\n",
        "- Call `df.head()` to check if everything works\n",
        "\n",
        "**_Hint:_**\n",
        "You did it in assignment 1 (the dataframe name was different), simply copy and paste your code."
      ]
    },
    {
      "cell_type": "code",
      "execution_count": 8,
      "metadata": {
        "colab": {
          "base_uri": "https://localhost:8080/",
          "height": 409
        },
        "id": "eE6kCJwWokeu",
        "outputId": "13b0ba5b-1e94-4cc0-d6d7-ed1fa7acfd43"
      },
      "outputs": [
        {
          "output_type": "stream",
          "name": "stdout",
          "text": [
            "Excess-return dataframe shape: (553, 49)\n"
          ]
        },
        {
          "output_type": "display_data",
          "data": {
            "text/plain": [
              "               Agric      Food      Soda      Beer     Smoke      Toys  \\\n",
              "date                                                                     \n",
              "1969-07-31 -0.617100 -0.599600 -0.565400 -0.550700 -0.577600 -0.608000   \n",
              "1969-08-31 -0.454200 -0.454500 -0.445300 -0.433300 -0.460100 -0.436100   \n",
              "1969-09-30 -0.608600 -0.626100 -0.567800 -0.629300 -0.578600 -0.601300   \n",
              "1969-10-31 -0.437800 -0.520100 -0.531900 -0.483700 -0.475800 -0.535900   \n",
              "1969-11-30 -0.543000 -0.527200 -0.569200 -0.548200 -0.513900 -0.602800   \n",
              "\n",
              "                 Fun     Books     Hshld     Clths  ...     Boxes     Trans  \\\n",
              "date                                                ...                       \n",
              "1969-07-31 -0.631900 -0.640600 -0.564600 -0.650500  ... -0.561400 -0.654900   \n",
              "1969-08-31 -0.384700 -0.399700 -0.452500 -0.474900  ... -0.438900 -0.444200   \n",
              "1969-09-30 -0.613600 -0.626500 -0.625400 -0.647000  ... -0.608200 -0.636100   \n",
              "1969-10-31 -0.469600 -0.525000 -0.536100 -0.526900  ... -0.565300 -0.552400   \n",
              "1969-11-30 -0.555200 -0.558900 -0.544300 -0.550900  ... -0.539600 -0.599300   \n",
              "\n",
              "               Whlsl     Rtail     Meals     Banks     Insur     RlEst  \\\n",
              "date                                                                     \n",
              "1969-07-31 -0.629400 -0.612800 -0.633500 -0.592700 -0.632000 -0.662600   \n",
              "1969-08-31 -0.436900 -0.417200 -0.411400 -0.377300 -0.412300 -0.345300   \n",
              "1969-09-30 -0.616600 -0.627500 -0.630200 -0.651100 -0.549900 -0.655200   \n",
              "1969-10-31 -0.488000 -0.537700 -0.510300 -0.492600 -0.543000 -0.562100   \n",
              "1969-11-30 -0.587100 -0.561200 -0.544700 -0.600600 -0.569000 -0.584400   \n",
              "\n",
              "                 Fin     Other  \n",
              "date                            \n",
              "1969-07-31 -0.626600 -0.650200  \n",
              "1969-08-31 -0.409400 -0.424300  \n",
              "1969-09-30 -0.642900 -0.661900  \n",
              "1969-10-31 -0.498500 -0.592900  \n",
              "1969-11-30 -0.587000 -0.555600  \n",
              "\n",
              "[5 rows x 49 columns]"
            ],
            "text/html": [
              "\n",
              "  <div id=\"df-94e0f819-6ba2-40fb-9ddf-c134b872444a\" class=\"colab-df-container\">\n",
              "    <div>\n",
              "<style scoped>\n",
              "    .dataframe tbody tr th:only-of-type {\n",
              "        vertical-align: middle;\n",
              "    }\n",
              "\n",
              "    .dataframe tbody tr th {\n",
              "        vertical-align: top;\n",
              "    }\n",
              "\n",
              "    .dataframe thead th {\n",
              "        text-align: right;\n",
              "    }\n",
              "</style>\n",
              "<table border=\"1\" class=\"dataframe\">\n",
              "  <thead>\n",
              "    <tr style=\"text-align: right;\">\n",
              "      <th></th>\n",
              "      <th>Agric</th>\n",
              "      <th>Food</th>\n",
              "      <th>Soda</th>\n",
              "      <th>Beer</th>\n",
              "      <th>Smoke</th>\n",
              "      <th>Toys</th>\n",
              "      <th>Fun</th>\n",
              "      <th>Books</th>\n",
              "      <th>Hshld</th>\n",
              "      <th>Clths</th>\n",
              "      <th>...</th>\n",
              "      <th>Boxes</th>\n",
              "      <th>Trans</th>\n",
              "      <th>Whlsl</th>\n",
              "      <th>Rtail</th>\n",
              "      <th>Meals</th>\n",
              "      <th>Banks</th>\n",
              "      <th>Insur</th>\n",
              "      <th>RlEst</th>\n",
              "      <th>Fin</th>\n",
              "      <th>Other</th>\n",
              "    </tr>\n",
              "    <tr>\n",
              "      <th>date</th>\n",
              "      <th></th>\n",
              "      <th></th>\n",
              "      <th></th>\n",
              "      <th></th>\n",
              "      <th></th>\n",
              "      <th></th>\n",
              "      <th></th>\n",
              "      <th></th>\n",
              "      <th></th>\n",
              "      <th></th>\n",
              "      <th></th>\n",
              "      <th></th>\n",
              "      <th></th>\n",
              "      <th></th>\n",
              "      <th></th>\n",
              "      <th></th>\n",
              "      <th></th>\n",
              "      <th></th>\n",
              "      <th></th>\n",
              "      <th></th>\n",
              "      <th></th>\n",
              "    </tr>\n",
              "  </thead>\n",
              "  <tbody>\n",
              "    <tr>\n",
              "      <th>1969-07-31</th>\n",
              "      <td>-0.617100</td>\n",
              "      <td>-0.599600</td>\n",
              "      <td>-0.565400</td>\n",
              "      <td>-0.550700</td>\n",
              "      <td>-0.577600</td>\n",
              "      <td>-0.608000</td>\n",
              "      <td>-0.631900</td>\n",
              "      <td>-0.640600</td>\n",
              "      <td>-0.564600</td>\n",
              "      <td>-0.650500</td>\n",
              "      <td>...</td>\n",
              "      <td>-0.561400</td>\n",
              "      <td>-0.654900</td>\n",
              "      <td>-0.629400</td>\n",
              "      <td>-0.612800</td>\n",
              "      <td>-0.633500</td>\n",
              "      <td>-0.592700</td>\n",
              "      <td>-0.632000</td>\n",
              "      <td>-0.662600</td>\n",
              "      <td>-0.626600</td>\n",
              "      <td>-0.650200</td>\n",
              "    </tr>\n",
              "    <tr>\n",
              "      <th>1969-08-31</th>\n",
              "      <td>-0.454200</td>\n",
              "      <td>-0.454500</td>\n",
              "      <td>-0.445300</td>\n",
              "      <td>-0.433300</td>\n",
              "      <td>-0.460100</td>\n",
              "      <td>-0.436100</td>\n",
              "      <td>-0.384700</td>\n",
              "      <td>-0.399700</td>\n",
              "      <td>-0.452500</td>\n",
              "      <td>-0.474900</td>\n",
              "      <td>...</td>\n",
              "      <td>-0.438900</td>\n",
              "      <td>-0.444200</td>\n",
              "      <td>-0.436900</td>\n",
              "      <td>-0.417200</td>\n",
              "      <td>-0.411400</td>\n",
              "      <td>-0.377300</td>\n",
              "      <td>-0.412300</td>\n",
              "      <td>-0.345300</td>\n",
              "      <td>-0.409400</td>\n",
              "      <td>-0.424300</td>\n",
              "    </tr>\n",
              "    <tr>\n",
              "      <th>1969-09-30</th>\n",
              "      <td>-0.608600</td>\n",
              "      <td>-0.626100</td>\n",
              "      <td>-0.567800</td>\n",
              "      <td>-0.629300</td>\n",
              "      <td>-0.578600</td>\n",
              "      <td>-0.601300</td>\n",
              "      <td>-0.613600</td>\n",
              "      <td>-0.626500</td>\n",
              "      <td>-0.625400</td>\n",
              "      <td>-0.647000</td>\n",
              "      <td>...</td>\n",
              "      <td>-0.608200</td>\n",
              "      <td>-0.636100</td>\n",
              "      <td>-0.616600</td>\n",
              "      <td>-0.627500</td>\n",
              "      <td>-0.630200</td>\n",
              "      <td>-0.651100</td>\n",
              "      <td>-0.549900</td>\n",
              "      <td>-0.655200</td>\n",
              "      <td>-0.642900</td>\n",
              "      <td>-0.661900</td>\n",
              "    </tr>\n",
              "    <tr>\n",
              "      <th>1969-10-31</th>\n",
              "      <td>-0.437800</td>\n",
              "      <td>-0.520100</td>\n",
              "      <td>-0.531900</td>\n",
              "      <td>-0.483700</td>\n",
              "      <td>-0.475800</td>\n",
              "      <td>-0.535900</td>\n",
              "      <td>-0.469600</td>\n",
              "      <td>-0.525000</td>\n",
              "      <td>-0.536100</td>\n",
              "      <td>-0.526900</td>\n",
              "      <td>...</td>\n",
              "      <td>-0.565300</td>\n",
              "      <td>-0.552400</td>\n",
              "      <td>-0.488000</td>\n",
              "      <td>-0.537700</td>\n",
              "      <td>-0.510300</td>\n",
              "      <td>-0.492600</td>\n",
              "      <td>-0.543000</td>\n",
              "      <td>-0.562100</td>\n",
              "      <td>-0.498500</td>\n",
              "      <td>-0.592900</td>\n",
              "    </tr>\n",
              "    <tr>\n",
              "      <th>1969-11-30</th>\n",
              "      <td>-0.543000</td>\n",
              "      <td>-0.527200</td>\n",
              "      <td>-0.569200</td>\n",
              "      <td>-0.548200</td>\n",
              "      <td>-0.513900</td>\n",
              "      <td>-0.602800</td>\n",
              "      <td>-0.555200</td>\n",
              "      <td>-0.558900</td>\n",
              "      <td>-0.544300</td>\n",
              "      <td>-0.550900</td>\n",
              "      <td>...</td>\n",
              "      <td>-0.539600</td>\n",
              "      <td>-0.599300</td>\n",
              "      <td>-0.587100</td>\n",
              "      <td>-0.561200</td>\n",
              "      <td>-0.544700</td>\n",
              "      <td>-0.600600</td>\n",
              "      <td>-0.569000</td>\n",
              "      <td>-0.584400</td>\n",
              "      <td>-0.587000</td>\n",
              "      <td>-0.555600</td>\n",
              "    </tr>\n",
              "  </tbody>\n",
              "</table>\n",
              "<p>5 rows × 49 columns</p>\n",
              "</div>\n",
              "    <div class=\"colab-df-buttons\">\n",
              "\n",
              "  <div class=\"colab-df-container\">\n",
              "    <button class=\"colab-df-convert\" onclick=\"convertToInteractive('df-94e0f819-6ba2-40fb-9ddf-c134b872444a')\"\n",
              "            title=\"Convert this dataframe to an interactive table.\"\n",
              "            style=\"display:none;\">\n",
              "\n",
              "  <svg xmlns=\"http://www.w3.org/2000/svg\" height=\"24px\" viewBox=\"0 -960 960 960\">\n",
              "    <path d=\"M120-120v-720h720v720H120Zm60-500h600v-160H180v160Zm220 220h160v-160H400v160Zm0 220h160v-160H400v160ZM180-400h160v-160H180v160Zm440 0h160v-160H620v160ZM180-180h160v-160H180v160Zm440 0h160v-160H620v160Z\"/>\n",
              "  </svg>\n",
              "    </button>\n",
              "\n",
              "  <style>\n",
              "    .colab-df-container {\n",
              "      display:flex;\n",
              "      gap: 12px;\n",
              "    }\n",
              "\n",
              "    .colab-df-convert {\n",
              "      background-color: #E8F0FE;\n",
              "      border: none;\n",
              "      border-radius: 50%;\n",
              "      cursor: pointer;\n",
              "      display: none;\n",
              "      fill: #1967D2;\n",
              "      height: 32px;\n",
              "      padding: 0 0 0 0;\n",
              "      width: 32px;\n",
              "    }\n",
              "\n",
              "    .colab-df-convert:hover {\n",
              "      background-color: #E2EBFA;\n",
              "      box-shadow: 0px 1px 2px rgba(60, 64, 67, 0.3), 0px 1px 3px 1px rgba(60, 64, 67, 0.15);\n",
              "      fill: #174EA6;\n",
              "    }\n",
              "\n",
              "    .colab-df-buttons div {\n",
              "      margin-bottom: 4px;\n",
              "    }\n",
              "\n",
              "    [theme=dark] .colab-df-convert {\n",
              "      background-color: #3B4455;\n",
              "      fill: #D2E3FC;\n",
              "    }\n",
              "\n",
              "    [theme=dark] .colab-df-convert:hover {\n",
              "      background-color: #434B5C;\n",
              "      box-shadow: 0px 1px 3px 1px rgba(0, 0, 0, 0.15);\n",
              "      filter: drop-shadow(0px 1px 2px rgba(0, 0, 0, 0.3));\n",
              "      fill: #FFFFFF;\n",
              "    }\n",
              "  </style>\n",
              "\n",
              "    <script>\n",
              "      const buttonEl =\n",
              "        document.querySelector('#df-94e0f819-6ba2-40fb-9ddf-c134b872444a button.colab-df-convert');\n",
              "      buttonEl.style.display =\n",
              "        google.colab.kernel.accessAllowed ? 'block' : 'none';\n",
              "\n",
              "      async function convertToInteractive(key) {\n",
              "        const element = document.querySelector('#df-94e0f819-6ba2-40fb-9ddf-c134b872444a');\n",
              "        const dataTable =\n",
              "          await google.colab.kernel.invokeFunction('convertToInteractive',\n",
              "                                                    [key], {});\n",
              "        if (!dataTable) return;\n",
              "\n",
              "        const docLinkHtml = 'Like what you see? Visit the ' +\n",
              "          '<a target=\"_blank\" href=https://colab.research.google.com/notebooks/data_table.ipynb>data table notebook</a>'\n",
              "          + ' to learn more about interactive tables.';\n",
              "        element.innerHTML = '';\n",
              "        dataTable['output_type'] = 'display_data';\n",
              "        await google.colab.output.renderOutput(dataTable, element);\n",
              "        const docLink = document.createElement('div');\n",
              "        docLink.innerHTML = docLinkHtml;\n",
              "        element.appendChild(docLink);\n",
              "      }\n",
              "    </script>\n",
              "  </div>\n",
              "\n",
              "\n",
              "    <div id=\"df-2640b650-9903-48f7-a25a-990d8aa76638\">\n",
              "      <button class=\"colab-df-quickchart\" onclick=\"quickchart('df-2640b650-9903-48f7-a25a-990d8aa76638')\"\n",
              "                title=\"Suggest charts\"\n",
              "                style=\"display:none;\">\n",
              "\n",
              "<svg xmlns=\"http://www.w3.org/2000/svg\" height=\"24px\"viewBox=\"0 0 24 24\"\n",
              "     width=\"24px\">\n",
              "    <g>\n",
              "        <path d=\"M19 3H5c-1.1 0-2 .9-2 2v14c0 1.1.9 2 2 2h14c1.1 0 2-.9 2-2V5c0-1.1-.9-2-2-2zM9 17H7v-7h2v7zm4 0h-2V7h2v10zm4 0h-2v-4h2v4z\"/>\n",
              "    </g>\n",
              "</svg>\n",
              "      </button>\n",
              "\n",
              "<style>\n",
              "  .colab-df-quickchart {\n",
              "      --bg-color: #E8F0FE;\n",
              "      --fill-color: #1967D2;\n",
              "      --hover-bg-color: #E2EBFA;\n",
              "      --hover-fill-color: #174EA6;\n",
              "      --disabled-fill-color: #AAA;\n",
              "      --disabled-bg-color: #DDD;\n",
              "  }\n",
              "\n",
              "  [theme=dark] .colab-df-quickchart {\n",
              "      --bg-color: #3B4455;\n",
              "      --fill-color: #D2E3FC;\n",
              "      --hover-bg-color: #434B5C;\n",
              "      --hover-fill-color: #FFFFFF;\n",
              "      --disabled-bg-color: #3B4455;\n",
              "      --disabled-fill-color: #666;\n",
              "  }\n",
              "\n",
              "  .colab-df-quickchart {\n",
              "    background-color: var(--bg-color);\n",
              "    border: none;\n",
              "    border-radius: 50%;\n",
              "    cursor: pointer;\n",
              "    display: none;\n",
              "    fill: var(--fill-color);\n",
              "    height: 32px;\n",
              "    padding: 0;\n",
              "    width: 32px;\n",
              "  }\n",
              "\n",
              "  .colab-df-quickchart:hover {\n",
              "    background-color: var(--hover-bg-color);\n",
              "    box-shadow: 0 1px 2px rgba(60, 64, 67, 0.3), 0 1px 3px 1px rgba(60, 64, 67, 0.15);\n",
              "    fill: var(--button-hover-fill-color);\n",
              "  }\n",
              "\n",
              "  .colab-df-quickchart-complete:disabled,\n",
              "  .colab-df-quickchart-complete:disabled:hover {\n",
              "    background-color: var(--disabled-bg-color);\n",
              "    fill: var(--disabled-fill-color);\n",
              "    box-shadow: none;\n",
              "  }\n",
              "\n",
              "  .colab-df-spinner {\n",
              "    border: 2px solid var(--fill-color);\n",
              "    border-color: transparent;\n",
              "    border-bottom-color: var(--fill-color);\n",
              "    animation:\n",
              "      spin 1s steps(1) infinite;\n",
              "  }\n",
              "\n",
              "  @keyframes spin {\n",
              "    0% {\n",
              "      border-color: transparent;\n",
              "      border-bottom-color: var(--fill-color);\n",
              "      border-left-color: var(--fill-color);\n",
              "    }\n",
              "    20% {\n",
              "      border-color: transparent;\n",
              "      border-left-color: var(--fill-color);\n",
              "      border-top-color: var(--fill-color);\n",
              "    }\n",
              "    30% {\n",
              "      border-color: transparent;\n",
              "      border-left-color: var(--fill-color);\n",
              "      border-top-color: var(--fill-color);\n",
              "      border-right-color: var(--fill-color);\n",
              "    }\n",
              "    40% {\n",
              "      border-color: transparent;\n",
              "      border-right-color: var(--fill-color);\n",
              "      border-top-color: var(--fill-color);\n",
              "    }\n",
              "    60% {\n",
              "      border-color: transparent;\n",
              "      border-right-color: var(--fill-color);\n",
              "    }\n",
              "    80% {\n",
              "      border-color: transparent;\n",
              "      border-right-color: var(--fill-color);\n",
              "      border-bottom-color: var(--fill-color);\n",
              "    }\n",
              "    90% {\n",
              "      border-color: transparent;\n",
              "      border-bottom-color: var(--fill-color);\n",
              "    }\n",
              "  }\n",
              "</style>\n",
              "\n",
              "      <script>\n",
              "        async function quickchart(key) {\n",
              "          const quickchartButtonEl =\n",
              "            document.querySelector('#' + key + ' button');\n",
              "          quickchartButtonEl.disabled = true;  // To prevent multiple clicks.\n",
              "          quickchartButtonEl.classList.add('colab-df-spinner');\n",
              "          try {\n",
              "            const charts = await google.colab.kernel.invokeFunction(\n",
              "                'suggestCharts', [key], {});\n",
              "          } catch (error) {\n",
              "            console.error('Error during call to suggestCharts:', error);\n",
              "          }\n",
              "          quickchartButtonEl.classList.remove('colab-df-spinner');\n",
              "          quickchartButtonEl.classList.add('colab-df-quickchart-complete');\n",
              "        }\n",
              "        (() => {\n",
              "          let quickchartButtonEl =\n",
              "            document.querySelector('#df-2640b650-9903-48f7-a25a-990d8aa76638 button');\n",
              "          quickchartButtonEl.style.display =\n",
              "            google.colab.kernel.accessAllowed ? 'block' : 'none';\n",
              "        })();\n",
              "      </script>\n",
              "    </div>\n",
              "\n",
              "    </div>\n",
              "  </div>\n"
            ],
            "application/vnd.google.colaboratory.intrinsic+json": {
              "type": "dataframe"
            }
          },
          "metadata": {}
        }
      ],
      "source": [
        "import numpy as np\n",
        "import pandas as pd\n",
        "import matplotlib.pyplot as plt\n",
        "from pandas.tseries.offsets import MonthEnd\n",
        "\n",
        "# your code below\n",
        "import numpy as np\n",
        "import pandas as pd\n",
        "import matplotlib.pyplot as plt\n",
        "from pandas.tseries.offsets import MonthEnd\n",
        "\n",
        "url = 'https://github.com/amoreira2/Fin418/blob/main/assets/data/Assignment1.xlsx?raw=true'\n",
        "# Import the data\n",
        "df_ind = pd.read_excel(\n",
        "url,\n",
        "sheet_name='49_Industry_Portfolios',\n",
        "skiprows=6,\n",
        "na_values=[-99.99, -999],\n",
        "usecols=\"A:AX\"\n",
        ")\n",
        "# Rename the column with date information\n",
        "df_ind.rename(columns={df_ind.columns[0]: 'date'}, inplace=True)\n",
        "# Convert the date column to datetime\n",
        "df_ind['date'] = pd.to_datetime(df_ind['date'], format='%Y%m')\n",
        "# Set date as the index\n",
        "df_ind.set_index('date', inplace=True)\n",
        "\n",
        "df_ind.index = df_ind.index.to_period(\"M\").to_timestamp(\"M\")\n",
        "\n",
        "df_rmrf = pd.read_excel(\n",
        "url,\n",
        "sheet_name='Market_proxy',\n",
        "skiprows=5,\n",
        "na_values=[-99.99, -999],\n",
        ")\n",
        "\n",
        "df_rmrf.rename(columns={df_rmrf.columns[0]: 'date'}, inplace=True)\n",
        "df_rmrf['date'] = pd.to_datetime(df_rmrf['date'], format='%Y%m')\n",
        "df_rmrf.set_index('date', inplace=True)\n",
        "df_rmrf.index = df_rmrf.index.to_period(\"M\").to_timestamp(\"M\")\n",
        "\n",
        "def maybe_to_decimal(x):\n",
        "    if isinstance(x, pd.Series):\n",
        "        q = x.abs().quantile(0.95)\n",
        "        return x/100 if pd.notna(q) and q > 2 else x\n",
        "    else:\n",
        "        q = x.abs().stack().quantile(0.95)\n",
        "        return x/100 if pd.notna(q) and q > 2 else x\n",
        "\n",
        "df_ind = maybe_to_decimal(df_ind)\n",
        "rf = df_rmrf['RF'].astype(float)\n",
        "rf = maybe_to_decimal(rf)\n",
        "\n",
        "common_idx = df_ind.index.intersection(rf.index)\n",
        "df_ind = df_ind.loc[common_idx].sort_index()\n",
        "rf = rf.loc[common_idx].sort_index()\n",
        "\n",
        "df = df_ind.subtract(rf, axis=0)\n",
        "df = df.dropna(axis=0, how='any')\n",
        "\n",
        "print(\"Excess-return dataframe shape:\", df.shape)\n",
        "display(df.head())\n",
        "\n",
        "\n",
        "\n"
      ]
    },
    {
      "cell_type": "markdown",
      "metadata": {
        "id": "8ke8n1Nw1xTq"
      },
      "source": [
        "**2. Expected excess return estimation**\n",
        "\n",
        "Compute the sample mean as the estimators for the expected excess returns of the 49 assets.\n",
        "\n",
        "Call this `ERe`.\n",
        "\n",
        "**_Hint:_**\n",
        "Use risk-free rates from the \"Market_proxy\" sheet."
      ]
    },
    {
      "cell_type": "code",
      "execution_count": 10,
      "metadata": {
        "colab": {
          "base_uri": "https://localhost:8080/",
          "height": 259
        },
        "id": "DuLuyhlzokev",
        "outputId": "1a342d63-1df6-49c7-cd3d-cb86d1cd49c4"
      },
      "outputs": [
        {
          "output_type": "stream",
          "name": "stdout",
          "text": [
            "ERe (expected excess returns):\n"
          ]
        },
        {
          "output_type": "execute_result",
          "data": {
            "text/plain": [
              "Agric   -0.398391\n",
              "Food    -0.396986\n",
              "Soda    -0.396885\n",
              "Beer    -0.396907\n",
              "Smoke   -0.393629\n",
              "dtype: float64"
            ],
            "text/html": [
              "<div>\n",
              "<style scoped>\n",
              "    .dataframe tbody tr th:only-of-type {\n",
              "        vertical-align: middle;\n",
              "    }\n",
              "\n",
              "    .dataframe tbody tr th {\n",
              "        vertical-align: top;\n",
              "    }\n",
              "\n",
              "    .dataframe thead th {\n",
              "        text-align: right;\n",
              "    }\n",
              "</style>\n",
              "<table border=\"1\" class=\"dataframe\">\n",
              "  <thead>\n",
              "    <tr style=\"text-align: right;\">\n",
              "      <th></th>\n",
              "      <th>0</th>\n",
              "    </tr>\n",
              "  </thead>\n",
              "  <tbody>\n",
              "    <tr>\n",
              "      <th>Agric</th>\n",
              "      <td>-0.398391</td>\n",
              "    </tr>\n",
              "    <tr>\n",
              "      <th>Food</th>\n",
              "      <td>-0.396986</td>\n",
              "    </tr>\n",
              "    <tr>\n",
              "      <th>Soda</th>\n",
              "      <td>-0.396885</td>\n",
              "    </tr>\n",
              "    <tr>\n",
              "      <th>Beer</th>\n",
              "      <td>-0.396907</td>\n",
              "    </tr>\n",
              "    <tr>\n",
              "      <th>Smoke</th>\n",
              "      <td>-0.393629</td>\n",
              "    </tr>\n",
              "  </tbody>\n",
              "</table>\n",
              "</div><br><label><b>dtype:</b> float64</label>"
            ]
          },
          "metadata": {},
          "execution_count": 10
        }
      ],
      "source": [
        "# your code below\n",
        "\n",
        "ERe = df.mean()\n",
        "\n",
        "print(\"ERe (expected excess returns):\")\n",
        "ERe.head()"
      ]
    },
    {
      "cell_type": "markdown",
      "metadata": {
        "id": "X7wvamWs1xTr"
      },
      "source": [
        "**3. Expected excess return uncertainty**\n",
        "\n",
        "We will now construct an estimator for the amount of uncertainty in our sample mean estimator. If we assume that each individual asset is uncorrelated over time (not terrible assumption), then the variance of the mean is\n",
        "\n",
        "$$var(\\bar{r_i}) = var(\\frac{\\sum_t^T r_{i,t}}{T})=\\frac{\\sum_t^T var( r_{i,t})}{T^2} = \\frac{var(r_{i,t})}{T}$$\n",
        "\n",
        "So all you need is the sample size (T) and the variance of each asset to obtain the varaince of our estimator.\n",
        "\n",
        "Please use this formula to compute the **STANDARD DEVIATION** of sample average estimator of each 49 asset. Call this `ERe_se`."
      ]
    },
    {
      "cell_type": "code",
      "execution_count": 11,
      "metadata": {
        "colab": {
          "base_uri": "https://localhost:8080/",
          "height": 277
        },
        "id": "Dg2mIQ5rokev",
        "outputId": "c2f31805-19ff-4850-9ed8-aae7dd3bd908"
      },
      "outputs": [
        {
          "output_type": "stream",
          "name": "stdout",
          "text": [
            "Number of observations (T): 553\n",
            "ERe_se (standard error of mean estimator):\n"
          ]
        },
        {
          "output_type": "execute_result",
          "data": {
            "text/plain": [
              "Agric   0.012000\n",
              "Food    0.011766\n",
              "Soda    0.012095\n",
              "Beer    0.011841\n",
              "Smoke   0.011891\n",
              "dtype: float64"
            ],
            "text/html": [
              "<div>\n",
              "<style scoped>\n",
              "    .dataframe tbody tr th:only-of-type {\n",
              "        vertical-align: middle;\n",
              "    }\n",
              "\n",
              "    .dataframe tbody tr th {\n",
              "        vertical-align: top;\n",
              "    }\n",
              "\n",
              "    .dataframe thead th {\n",
              "        text-align: right;\n",
              "    }\n",
              "</style>\n",
              "<table border=\"1\" class=\"dataframe\">\n",
              "  <thead>\n",
              "    <tr style=\"text-align: right;\">\n",
              "      <th></th>\n",
              "      <th>0</th>\n",
              "    </tr>\n",
              "  </thead>\n",
              "  <tbody>\n",
              "    <tr>\n",
              "      <th>Agric</th>\n",
              "      <td>0.012000</td>\n",
              "    </tr>\n",
              "    <tr>\n",
              "      <th>Food</th>\n",
              "      <td>0.011766</td>\n",
              "    </tr>\n",
              "    <tr>\n",
              "      <th>Soda</th>\n",
              "      <td>0.012095</td>\n",
              "    </tr>\n",
              "    <tr>\n",
              "      <th>Beer</th>\n",
              "      <td>0.011841</td>\n",
              "    </tr>\n",
              "    <tr>\n",
              "      <th>Smoke</th>\n",
              "      <td>0.011891</td>\n",
              "    </tr>\n",
              "  </tbody>\n",
              "</table>\n",
              "</div><br><label><b>dtype:</b> float64</label>"
            ]
          },
          "metadata": {},
          "execution_count": 11
        }
      ],
      "source": [
        "# your code below\n",
        "\n",
        "T = df.shape[0]\n",
        "ERe_se = df.std() / np.sqrt(T)\n",
        "\n",
        "print(\"Number of observations (T):\", T)\n",
        "print(\"ERe_se (standard error of mean estimator):\")\n",
        "ERe_se.head()"
      ]
    },
    {
      "cell_type": "markdown",
      "metadata": {
        "id": "iJi0bAYO1xTs"
      },
      "source": [
        "**4. Constructing a confidence interval for the expected excess return, part 1**\n",
        "\n",
        "We will now want to construct the 95% confidence interval for our estimator. The interval is such that it contains the true mean 95% of the time.\n",
        "\n",
        "The way to do this is to use the normal distribution CDF to figure out the threshold that leaves only 2.5% probability at the each side of the tails.\n",
        "\n",
        "Why 2.5% and not 5%? Because it is symmetric, so there is 2.5% probability in the left tail and 2.5 % in the right tail so overall there is only 5% probability that the expected return is out of the interval. Thus there is 95% probability that it is in the interval.\n",
        "\n",
        "In this exercise, you will find the threshold by doing the followings:\n",
        "\n",
        "1. import the stats library from the scipy package with `from scipy import stats`\n",
        "\n",
        "2. get the standard normal distribution with `sn=stats.norm(0,1)`, where 0 is the mean and 1 is the standard deviation\n",
        "\n",
        "3. get the threshold by using inverse cumulative distribution function for the appropriate `prob_value` to create a 95% CI (see discussion above). `threshold=sn.isf(prob_value)`\n",
        "\n",
        "4. make sure that this threshold is positive (if you got from the left tail, you will have to take the absolute value or just get from the right tail).\n",
        "\n",
        "5. make sure you did things correctly by calling `print(threshold)`.\n",
        "\n",
        "**_Hint:_**\n",
        "\n",
        "You can always check in the normal table that you did things correctly https://en.wikipedia.org/wiki/Normal_distribution.\n"
      ]
    },
    {
      "cell_type": "code",
      "execution_count": null,
      "metadata": {
        "id": "xJgR21POokev"
      },
      "outputs": [],
      "source": [
        "# your code below\n",
        "\n",
        "from scipy import stats\n",
        "\n",
        "sn = stats.norm(loc=0, scale=1)\n",
        "prob_value = 0.025\n",
        "threshold = sn.isf(prob_value)\n",
        "\n",
        "threshold = abs(threshold)\n",
        "\n",
        "print(\"95% two-sided z-threshold:\", threshold)"
      ]
    },
    {
      "cell_type": "markdown",
      "metadata": {
        "id": "8Q0HgrRl1xTu"
      },
      "source": [
        "**5. Constructing a confidence interval for the expected excess return, part 2**\n",
        "\n",
        "Armed with these threshold you can construct the interval as follows\n",
        "\n",
        "$$[\\bar{r}-threshold\\times\\sigma(\\bar{r}),\\bar{r}+threshold\\times\\sigma(\\bar{r})]$$\n",
        "\n",
        "Do the followings:\n",
        "\n",
        "1. create an empty dataframe which has the names of industries as index and 'lower' and 'upper' as column names. Name it `ERe_ci`.\n",
        "\n",
        "2. construct the lower bound of the interval, $\\bar{r}-threshold\\times\\sigma(\\bar{r})$, and store it in the column of 'lower'\n",
        "\n",
        "3. compute the upper bound symmetrically, and store it in the column of 'upper'\n",
        "\n",
        "4. call `ERe_ci.head()`"
      ]
    },
    {
      "cell_type": "code",
      "execution_count": null,
      "metadata": {
        "id": "jlgCnpkwokev"
      },
      "outputs": [],
      "source": [
        "# your code below\n",
        "\n",
        "ERe_ci.head()"
      ]
    },
    {
      "cell_type": "markdown",
      "metadata": {
        "id": "UIWJeB2S1xTv"
      },
      "source": [
        "**6. Compute the tangency portfolio weights for a portfolio with annualized volatility of 10%**\n",
        "\n",
        "A portfolio that is very important is the Mean-Variance-Efficient portfolio--sometimes also called the Tangency portfolio. This portfolio plays an outsized role in finance theory--for example any model of asset prices can be characterized as a prediction for which portfolio is MVE--for example in the case of the CAPM it predicts the market portfolio to be MVE.\n",
        "\n",
        "For us we will simply discuss it's empirical implementation. It turns out that if you know the true moments of the excess returns distributions of the assets, $E[R^e]$  and $Var(R^e)$, then the portfolio that maximizes the SR is any portfolio weight proportional to\n",
        "\n",
        "$$Var(R^e)^{-1}E[R^e]$$\n",
        "\n",
        "So for any number x, the portfolio $W=xVar(R^e)^{-1}E[R^e]$ has the highest feasible sharpe ratio.\n",
        "\n",
        "Let's construct this portfolio using the sample moments, so it will return the static portfolio that had the highest sharpe ratio in the sample.\n",
        "\n",
        "1. you already estimated E[Re]\n",
        "2. Now use .cov() to estimate the variance-covariance matrix and save it as `CovRe`\n",
        "3. Invert the variance covariance matrix usign np.linalg.inv()\n",
        "4. Construct the weights\n",
        "5. Choose x so that the weights add up to 1\n",
        "\n",
        "Store these in a dataframe whose rows are the names of the assets and the first column has the label 'mve_data'.\n",
        "\n",
        "Name this data frame `Weights`.\n",
        "\n",
        "`print(Weights)`\n",
        "\n"
      ]
    },
    {
      "cell_type": "code",
      "execution_count": null,
      "metadata": {
        "id": "MMj9DjcNokew"
      },
      "outputs": [],
      "source": [
        "# your code below\n",
        "\n",
        "# Your CovRe\n",
        "CovRe =\n",
        "\n",
        "# Plug in appropriate variables in `invCovRe` and 'ERe'\n",
        "raw_weights = 'invCovRe' @ 'ERe'\n",
        "\n",
        "# Normalize weights to sum to 1\n",
        "x =\n",
        "norm_weights = x * raw_weights\n",
        "\n",
        "# Store in DataFrame\n",
        "Weights =\n",
        "\n",
        "print(Weights.head())"
      ]
    },
    {
      "cell_type": "markdown",
      "metadata": {
        "id": "EOSnMt-p1xTv"
      },
      "source": [
        "**7. Sensitivity to uncertainty of the Tangent portfolio calculation**\n",
        "\n",
        "Now we will compute the tangency portfolio but using a slightly different estimate for the mean.\n",
        "\n",
        "Do the followings.\n",
        "\n",
        "1. instead of using the sample mean for each asset, first we will pick one asset, `Hshld`.\n",
        "\n",
        "2. change its mean to be its lower bound of CI (confidence interval) in Exercise 5 and then recalculate the tangency portfolio weights. (That is, change the mean of `Hshld` ONLY and go through the same process as exercise 6 to recalculate the portfolio weights for ALL assets.)\n",
        "\n",
        "3. store this in dataframe `Weights` with the column name `mve_Hlth-1.95`.\n",
        "\n",
        "4. create another column with weights computed from the perturbation in which the mean of `Hshld` is changed to be the upper bound of CI, label this column `mve_Hshld+1.95 `.\n",
        "\n",
        "5. do a bar plot of these three sets of weights using Weights.plot.bar().\n",
        "\n",
        "Discuss what you notice in the bar plot:\n",
        "\n",
        "1. How much do the weights change?\n",
        "\n",
        "2. Which assets are impacted? Why?\n",
        "\n",
        "**_Hint:_**\n",
        "\n",
        "you might want to create a copy of your ERe estimator before you do the perturbation."
      ]
    },
    {
      "cell_type": "code",
      "execution_count": null,
      "metadata": {
        "id": "tD029g16okew"
      },
      "outputs": [],
      "source": [
        "# your code below\n",
        "\n",
        "# Make copies of `ERe` dataframe and name them `ERe_lower` and 'ERe_upper'\n",
        "ERe_lower = ERe.copy()\n",
        "ERe_upper = ERe.copy()\n",
        "\n",
        "# Replace Hshld's mean with lower and upper CI bounds\n",
        "ERe_lower['Hshld'] =\n",
        "ERe_upper['Hshld'] =\n",
        "\n",
        "# Compute weights as in the above exercise and save the values of each in `Weights` dataframe\n",
        "\n",
        "# Bar plot"
      ]
    },
    {
      "cell_type": "markdown",
      "metadata": {
        "id": "J5XhSWJl1xTw"
      },
      "source": [
        "your discussion below\n",
        "\n",
        "1. How much do the weights change?\n",
        "\n",
        "2. Which assets are impacted? Why?\n"
      ]
    },
    {
      "cell_type": "markdown",
      "metadata": {
        "id": "L0HUt9Od1xTw"
      },
      "source": [
        "**8. Performance impact of estimation uncertainty**\n",
        "\n",
        "\n",
        "Your `Weight` dataframe has 3 different weight schemes (three columns).\n",
        "\n",
        "Do the followings:\n",
        "\n",
        "1. compute the in-sample Sharpe Ratio for these 3 different weight schemes.\n",
        "\n",
        "2. discuss the results that you obtained\n",
        "\n",
        "**_Hint:_**\n",
        "You should use the **real** data (e.g. `df`,`ERe`,`CovRe` ) to compute the Sharpe ratio (not the perturbed means in exercise 7)."
      ]
    },
    {
      "cell_type": "code",
      "execution_count": null,
      "metadata": {
        "id": "a8VOZUAuokew"
      },
      "outputs": [],
      "source": [
        "# your code below\n"
      ]
    },
    {
      "cell_type": "markdown",
      "metadata": {
        "id": "KFhbKApV1xTx"
      },
      "source": [
        "your discussion below\n"
      ]
    },
    {
      "cell_type": "markdown",
      "metadata": {
        "id": "5GksOAMW1xTx"
      },
      "source": [
        "**9. Reproduce analysis of Exercises 7-8 for all assets**\n",
        "\n",
        "Do the followings:\n",
        "\n",
        "1. use a for loop to loop through the 49 portfolios and create the \"perturbed\" weights and the Sharpe Ratio of the perturbed weights by performing the same exercises as in exercise 7 and 8.\n",
        "\n",
        "2. record for each asset the average drop in the Sharpe Ratio associated with the perturbation in the tangency portfolio weights.\n",
        "\n",
        "3. store the results in a dataframe named `dSR` (difference in SR):\n",
        "$$dSR[asset]=\\frac{1}{2}\\frac{SR(asset+1.95)-SR+SR(asset-1.95)-SR}{SR(data)}$$\n",
        "where SR(asset+1.95) and SR(asset-1.95) were the Sharpe ratios obtained when you perturb the expected excess return of that asset to the upper and lower bound of the CI.\n",
        "`dSR` should be a dataframe with industry names as index and a column, called `SR_change`, containing the results of the calculation from the expression above.\n",
        "\n",
        "4. do a bar plot of this Sharpe ratio change.\n",
        "\n",
        "Discuss the bar plot:\n",
        "\n",
        "1. What do you think is the key takeaway from the analysis above\n",
        "\n",
        "***Hint:***\n",
        "Note that all you need to do here is to get the code you developed above and adapt it to work with a for loop.\n",
        "\n",
        "***Hint:***\n",
        "When saving into `dSR`, You can use .from_dict method of pd.DataFrame\n"
      ]
    },
    {
      "cell_type": "code",
      "execution_count": null,
      "metadata": {
        "id": "3RYKRQY9okew"
      },
      "outputs": [],
      "source": [
        "# your code below\n",
        "\n",
        "# It's useful to use dictionary for this exercise\n",
        "sr_changes = {}\n",
        "\n",
        "# For each asset, do the same exercise\n",
        "for asset in ERe.index:\n",
        "    # Write a code calculating Sharpe ratios using above exercise\n",
        "\n",
        "    # Compute average SR drop. Hint: Use the formula in the problem.\n",
        "    sr_diff =\n",
        "    sr_changes[asset] = sr_diff\n",
        "\n",
        "# Save it into DataFrame\n",
        "dSR =\n",
        "\n",
        "# Bar plot\n",
        "\n"
      ]
    },
    {
      "cell_type": "markdown",
      "metadata": {
        "id": "sY2TuV-x1xTy"
      },
      "source": [
        "your discussion below\n"
      ]
    },
    {
      "cell_type": "markdown",
      "metadata": {
        "id": "Pp9iH3Nm1xTy"
      },
      "source": [
        "**10. Monte Carlo, part 1**\n",
        "\n",
        "So far our focus is on the estimation uncertainty of risk premiums. Covariance matrices also need to be estimated.\n",
        "\n",
        "You will now implement a Monte-Carlo method to evaluate the overall uncertainty in the construction of the tangency portfolio.\n",
        "\n",
        "You already have the sample estimates from the vector of expected excess returns `ERe` and the variance-covariance matrix `CovRe`  (you used those in Exercise 6).\n",
        "\n",
        "Now you use the function `np.random.multivariate_normal` to simulate draws from a multivariate normal distribution with vector of mean equal to `ERe` and the covariance matrix equal to `CovRe`.\n",
        "\n",
        "Do the following:\n",
        "\n",
        "1. write the code that draws ONE realization of returns for this set of 49 assets.\n",
        "\n",
        "***Hint:***\n",
        "\n",
        "you should get a vector 49 by 1 that changes every time you run the cell.\n",
        "\n",
        "type `np.random.multivariate_normal?` to see how this function works\n",
        "\n"
      ]
    },
    {
      "cell_type": "code",
      "execution_count": null,
      "metadata": {
        "id": "Ku2xyycV1xTy"
      },
      "outputs": [],
      "source": [
        "# your code below\n",
        "\n"
      ]
    },
    {
      "cell_type": "markdown",
      "metadata": {
        "id": "QD33YJYC1xTy"
      },
      "source": [
        "**11. Monte Carlo, part 2**\n",
        "\n",
        "Do the followings:\n",
        "\n",
        "1. now set the parameter `size` in the `multivaraite_normal` function to draw T realizations of the 49 assets, where you set T to the number of months you have in the data set.\n",
        "\n",
        "2. print the shape of your draw. This should return you a T by N matrix of returns, something with exactly the same shape as our data set.\n",
        "\n",
        "***Hint:***\n",
        "every time you run the cell again you get a different realization.\n",
        "\n"
      ]
    },
    {
      "cell_type": "code",
      "execution_count": null,
      "metadata": {
        "id": "0BIZ7lNp1xTy"
      },
      "outputs": [],
      "source": [
        "# your code below\n",
        "\n"
      ]
    },
    {
      "cell_type": "markdown",
      "metadata": {
        "id": "i8E6w9nL1xTz"
      },
      "source": [
        "**12. Monte Carlo, part 3**\n",
        "\n",
        "Do the followings:\n",
        "\n",
        "1. copy the code above, so you have a simulated sample of monthly industry returns.\n",
        "\n",
        "2. use the simulated return data and the weights in `mve_data` column of the dataframe `Weights` to construct a time-series of portfolio excess return. That is use the weights you constructed using the sample moments of the original sample.\n",
        "\n",
        "3. compute and print its Sharpe Ratio.\n",
        "\n",
        "***Hint:***\n",
        "\n",
        "Every time you run this cell you should get a different Sharpe Ratio. This variation reflects the amount of overall uncertainty built in our investment strategy."
      ]
    },
    {
      "cell_type": "code",
      "execution_count": null,
      "metadata": {
        "id": "Y8Z3CiIX1xTz"
      },
      "outputs": [],
      "source": [
        "# your code below\n",
        "simulated_returns =\n",
        "w_mve = Weights['mve_data'].values\n",
        "\n",
        "# Compute time-series of simulated portfolio returns\n",
        "simulated_port_returns =\n",
        "\n",
        "# Compute Sharpe Ratio of the simulated portfolio"
      ]
    },
    {
      "cell_type": "markdown",
      "metadata": {
        "id": "lgVHy9TC1xTz"
      },
      "source": [
        "**13. Monte Carlo, part 4**\n",
        "\n",
        "Now copy the code of the question above and write a for loop around it.\n",
        "\n",
        "Do the followings:\n",
        "\n",
        "1. loop throught this code 1000 times and each time record the resulting Sharpe Ratio.\n",
        "\n",
        "2. save this in a dataframe called `MC`.\n",
        "\n",
        "3. create a histogram of these Sharpe Ratios with 50 bins using the method `.hist`\n",
        "\n",
        "Discuss the plot:\n",
        "\n",
        "1. what do you conclude?"
      ]
    },
    {
      "cell_type": "code",
      "execution_count": null,
      "metadata": {
        "id": "ey7Znsls1xTz"
      },
      "outputs": [],
      "source": [
        "# your code below\n",
        "\n",
        "# Prepare saving space\n",
        "mc_sharpes = []\n",
        "\n",
        "# Run simulation 1000 times\n",
        "for iter in range(1000):\n",
        ""
      ]
    },
    {
      "cell_type": "markdown",
      "metadata": {
        "id": "6vMNnh711xTz"
      },
      "source": [
        "your discussion below\n"
      ]
    },
    {
      "cell_type": "markdown",
      "metadata": {
        "id": "ExscHOuF1xT0"
      },
      "source": [
        "**14. Please explain why an investor should care about these results.**"
      ]
    },
    {
      "cell_type": "markdown",
      "metadata": {
        "id": "pvL1hqr91xT1"
      },
      "source": [
        "your answer below\n"
      ]
    },
    {
      "cell_type": "markdown",
      "metadata": {
        "id": "EcbFaRavokex"
      },
      "source": []
    }
  ],
  "metadata": {
    "colab": {
      "provenance": []
    },
    "kernelspec": {
      "display_name": "base",
      "language": "python",
      "name": "python3"
    },
    "language_info": {
      "codemirror_mode": {
        "name": "ipython",
        "version": 3
      },
      "file_extension": ".py",
      "mimetype": "text/x-python",
      "name": "python",
      "nbconvert_exporter": "python",
      "pygments_lexer": "ipython3",
      "version": "3.9.19"
    },
    "toc": {
      "base_numbering": 1,
      "nav_menu": {},
      "number_sections": true,
      "sideBar": true,
      "skip_h1_title": false,
      "title_cell": "Table of Contents",
      "title_sidebar": "Contents",
      "toc_cell": false,
      "toc_position": {},
      "toc_section_display": true,
      "toc_window_display": false
    },
    "toc-autonumbering": true
  },
  "nbformat": 4,
  "nbformat_minor": 0
}