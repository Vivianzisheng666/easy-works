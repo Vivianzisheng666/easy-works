{
  "cells": [
    {
      "cell_type": "markdown",
      "metadata": {
        "id": "WI820A_Bp_NH"
      },
      "source": [
        "# Assignment 3\n",
        "\n"
      ]
    },
    {
      "cell_type": "markdown",
      "metadata": {
        "id": "wVAN3J3Vp_NJ"
      },
      "source": [
        "# Maxon Yin my2883\n",
        "\n",
        "\n",
        "\n"
      ]
    },
    {
      "cell_type": "markdown",
      "metadata": {
        "id": "3_hh9cANhkiC"
      },
      "source": [
        "# Exercises\n",
        "\n",
        "\n",
        "\n"
      ]
    },
    {
      "cell_type": "markdown",
      "metadata": {
        "id": "YAu1SgqlhkiC"
      },
      "source": [
        "\n",
        "\n",
        "We will start by redoing the dataset construction of Assignment 2. ( Feel free to use your previous code!)\n",
        "\n",
        "Start by importing pandas, numpy, maplotlib, and loading the data set.\n",
        "\n",
        "The dataset has address\n",
        "\n",
        "`url='https://github.com/amoreira2/Fin418/raw/refs/heads/main/assets/data/Retuns50stocks.xlsx'`\n",
        "\n",
        "I strongly recommend you download first and look at the data set.\n",
        "\n",
        "You should use `read_excel` to get the data that contains t0 stocks plus the market\n",
        "\n",
        "See here:https://pandas.pydata.org/pandas-docs/stable/reference/api/pandas.read_excel.html .\n",
        "\n",
        "Do the followings:\n",
        "\n",
        "1. Import this dataframe as `df`\n",
        "    - Use \"skip_rows\" to skip the initial rows before the data.\n",
        "    - Figure out what is the code for missing value and change the option `na_values` appropriately\n",
        "\n",
        "\n",
        "2. Change the name of the column with the date information to \"Date\"\n",
        "\n",
        "3. Use `to_datetime` so python understand the column date as a datetime object (you will have to use the option format)\n",
        "\n",
        "4. Set date as index\n",
        "\n",
        "5. convert the date from the start of the month to end of the month.\n",
        "\n",
        "6. Drop any date with a missing observations (it will be just one date)\n",
        "\n",
        "7. Find the market in the columns and save the stocks in a data frame (df) and the market in a different data frame called df_market"
      ]
    },
    {
      "cell_type": "code",
      "execution_count": 5,
      "metadata": {
        "colab": {
          "base_uri": "https://localhost:8080/"
        },
        "id": "rA0NCOLhhkiD",
        "outputId": "802b5a21-7feb-4752-c6af-d2257804a4b7"
      },
      "outputs": [
        {
          "output_type": "stream",
          "name": "stdout",
          "text": [
            "Columns after initial read: ['date', 'CTL', 'T', 'CSCO', 'FCX', 'XL', 'IVZ', 'AMT', 'WHR', 'IR', 'WFT', 'YUM', 'CVS', 'GD', 'TYC', 'EL', 'MUR', 'CTAS', 'CBSA', 'SNV', 'CAM', 'DLTR', 'CAH', 'DTE', 'SSP', 'PSA', 'EXC', 'TKR', 'CMA', 'ORCL', 'MS', 'RSG', 'ACAS', 'AGN', 'MMM', 'ETFC', 'CAR', 'MDR', 'NOV', 'PCH', 'BAX', 'JCI', 'SWK', 'DVN', 'TMO', 'PEP', 'LNC', 'EMR', 'MLM', 'CCI', 'NU', 'Market']\n",
            "Shape before dropna: (180, 51)\n",
            "Shape after dropna: (180, 51)\n",
            "Stocks df shape: (180, 50)\n",
            "Market df shape: (180, 1)\n",
            "Index is month-end only? -> True\n",
            "Stocks head:\n",
            "                 CTL        T     CSCO      FCX       XL      IVZ      AMT  \\\n",
            "Date                                                                        \n",
            "2000-01-31 -18.4697 -11.5513   2.2170 -17.4556 -12.5301  -4.0929  17.3824   \n",
            "2000-02-29 -12.9450 -11.2245  20.7192 -21.1470  -9.8898   5.3057  37.2822   \n",
            "2000-03-31  10.5502  10.6732  16.9740 -12.2727  36.9397  24.4250   0.2538   \n",
            "2000-04-30 -34.0067   4.6083 -10.3274 -20.2073 -13.9955   0.9670  -5.6962   \n",
            "2000-05-31  10.3980  -0.2853 -17.8724  -4.5455  25.8793  -8.7719 -20.2685   \n",
            "\n",
            "                WHR       IR      WFT  ...      JCI      SWK      DVN  \\\n",
            "Date                                   ...                              \n",
            "2000-01-31 -10.4707 -14.5289  -5.9468  ...  -2.8571 -16.5975   6.8441   \n",
            "2000-02-29  -6.1760 -18.2311  19.8003  ...  -3.3937  -8.4577   6.0498   \n",
            "2000-03-31   7.9402  15.4976  30.0000  ...   1.8126  15.6304  30.5034   \n",
            "2000-04-30  11.0874   6.0734   2.7153  ...  17.1098  11.8483  -0.9009   \n",
            "2000-05-31 -12.4338  -2.5672   6.0000  ... -10.0691  -8.8983  24.2857   \n",
            "\n",
            "                TMO      PEP      LNC      EMR      MLM      CCI       NU  \n",
            "Date                                                                       \n",
            "2000-01-31  15.4167  -3.1915  -6.9312  -4.0305   2.4390  -1.5564  -0.3040  \n",
            "2000-02-29  -9.7473  -5.8608 -25.2115 -16.6039 -15.1667   1.9763  -7.7439  \n",
            "2000-03-31  30.4000   8.9805  21.2670  16.5981  33.8028  17.4419  14.2857  \n",
            "2000-04-30  -4.9080   5.1971   4.7836   3.2941  11.5789   1.3201   0.0000  \n",
            "2000-05-31  -4.1935  11.4140  11.3106   8.1686  -7.4198 -31.7590   3.3721  \n",
            "\n",
            "[5 rows x 50 columns]\n",
            "Market head:\n",
            "             Market\n",
            "Date              \n",
            "2000-01-31 -3.9612\n",
            "2000-02-29  3.1777\n",
            "2000-03-31  5.3500\n",
            "2000-04-30 -5.9530\n",
            "2000-05-31 -3.8871\n"
          ]
        }
      ],
      "source": [
        "# your code below\n",
        "import pandas as pd\n",
        "import numpy as np\n",
        "import matplotlib.pyplot as plt\n",
        "\n",
        "url='https://github.com/amoreira2/Fin418/raw/refs/heads/main/assets/data/Retuns50stocks.xlsx'\n",
        "\n",
        "candidate_na = [-99.99, -999, -999.0, -99, 'NA', 'NaN', 'nan']\n",
        "\n",
        "df = pd.read_excel(\n",
        "    url,\n",
        "    skiprows=0,\n",
        "    na_values=candidate_na\n",
        ")\n",
        "\n",
        "print(\"Columns after initial read:\", list(df.columns))\n",
        "\n",
        "date_candidates = [c for c in df.columns if 'date' in str(c).lower()]\n",
        "if len(date_candidates) == 0:\n",
        "    date_col = df.columns[0]\n",
        "else:\n",
        "    date_col = date_candidates[0]\n",
        "\n",
        "df = df.rename(columns={date_col: 'Date'})\n",
        "\n",
        "try:\n",
        "    df['Date'] = pd.to_datetime(df['Date'].astype(str), format='%Y%m')\n",
        "except Exception:\n",
        "    df['Date'] = pd.to_datetime(df['Date'])\n",
        "\n",
        "df = df.set_index('Date').sort_index()\n",
        "\n",
        "df.index = df.index.to_period('M').to_timestamp('M')\n",
        "\n",
        "print(\"Shape before dropna:\", df.shape)\n",
        "df = df.dropna(how='any')\n",
        "print(\"Shape after dropna:\", df.shape)\n",
        "\n",
        "market_col = 'market'\n",
        "\n",
        "df_market = df[[market_col]].rename(columns={market_col: 'Market'})\n",
        "df = df.drop(columns=[market_col])\n",
        "\n",
        "print(\"Stocks df shape:\", df.shape)\n",
        "print(\"Market df shape:\", df_market.shape)\n",
        "print(\"Index is month-end only? ->\", pd.Series(df.index).dt.is_month_end.all())\n",
        "print(\"Stocks head:\\n\", df.head())\n",
        "print(\"Market head:\\n\", df_market.head())"
      ]
    },
    {
      "cell_type": "markdown",
      "metadata": {
        "id": "O3dAkXikhkiD"
      },
      "source": [
        "**Exercise 1. Portfolio Moments**\n",
        "\n",
        "Construct a portfolio that equal weights the first five stocks. Compute this portfolio variance in this sample.  \n",
        "\n"
      ]
    },
    {
      "cell_type": "code",
      "execution_count": 7,
      "metadata": {
        "colab": {
          "base_uri": "https://localhost:8080/"
        },
        "id": "CEVuvO55hkiD",
        "outputId": "3a4fc8d0-be14-41a9-eddb-b1057ecfb0da"
      },
      "outputs": [
        {
          "output_type": "stream",
          "name": "stdout",
          "text": [
            "Portfolio variance:  45.596248764001416\n"
          ]
        }
      ],
      "source": [
        "# your code below\n",
        "stocks5 = df.iloc[:, :5].copy()\n",
        "\n",
        "w = np.full(5, 1/5)\n",
        "\n",
        "Sigma = stocks5.cov(ddof=1)\n",
        "var_port_cov = float(w.T @ Sigma.values @ w)\n",
        "\n",
        "print(\"Portfolio variance: \", var_port_cov)"
      ]
    },
    {
      "cell_type": "markdown",
      "metadata": {
        "id": "C5owc8i3hkiD"
      },
      "source": [
        "**Exercise 2. Annualize it**\n",
        "\n",
        "Report this number in yearly units\n",
        "\n"
      ]
    },
    {
      "cell_type": "code",
      "source": [
        "monthly_var = var_port_cov\n",
        "annualized_var = monthly_var * 12\n",
        "print(\"Annualized variance: \", annualized_var)"
      ],
      "metadata": {
        "colab": {
          "base_uri": "https://localhost:8080/"
        },
        "id": "2IUIrejvmaDM",
        "outputId": "4e040b98-2306-41b5-f31a-a7b144cc9923"
      },
      "execution_count": 8,
      "outputs": [
        {
          "output_type": "stream",
          "name": "stdout",
          "text": [
            "Annualized variance:  547.154985168017\n"
          ]
        }
      ]
    },
    {
      "cell_type": "markdown",
      "metadata": {
        "id": "bULHlfRMhkiD"
      },
      "source": [
        "**Exercise 3. Function 1**\n",
        "\n",
        "\n",
        "Construct a function that takes as input the number of stocks in the portfolio, lets call that parameter N, and outputs the (yearly) variance of the portfolio that equal weight the first N stocks"
      ]
    },
    {
      "cell_type": "code",
      "execution_count": 10,
      "metadata": {
        "colab": {
          "base_uri": "https://localhost:8080/"
        },
        "id": "itJgR8pshkiE",
        "outputId": "d7b32165-6dba-424a-dc2f-242e50368421"
      },
      "outputs": [
        {
          "output_type": "stream",
          "name": "stdout",
          "text": [
            "Annualized variance for first 5 stocks: 547.154985168017\n"
          ]
        }
      ],
      "source": [
        "# your code below\n",
        "def portfolio_variance(df, N):\n",
        "  stocksN = df.iloc[:, :N].dropna(how='any')\n",
        "  w = np.full(N, 1/N)\n",
        "\n",
        "  Sigma = stocksN.cov(ddof=1)\n",
        "\n",
        "  var_monthly = float(w.T @ Sigma.values @ w)\n",
        "\n",
        "  var_annual = var_monthly * 12\n",
        "\n",
        "  return var_annual\n",
        "\n",
        "var5 = portfolio_variance(df, 5)\n",
        "print(\"Annualized variance for first 5 stocks:\", var5)\n",
        "\n"
      ]
    },
    {
      "cell_type": "markdown",
      "metadata": {
        "id": "n6uEsGVZhkiE"
      },
      "source": [
        "**Exercise 4. Function 2**\n",
        "\n",
        "\n",
        "Construct a function that takes as input the number of stocks in the portfolio and also, lets call that parameter N, and outputs the (yearly) variance of the portfolio that equal weight N randomly picked stocks"
      ]
    },
    {
      "cell_type": "code",
      "execution_count": 13,
      "metadata": {
        "colab": {
          "base_uri": "https://localhost:8080/"
        },
        "id": "yII_LokQhkiE",
        "outputId": "9eea53b3-b11d-40d2-c4f8-7449336c067a"
      },
      "outputs": [
        {
          "output_type": "stream",
          "name": "stdout",
          "text": [
            "Annualized variance (random 5 stocks): 559.1743585028485\n",
            "Chosen stocks: ['SWK', 'RSG', 'DLTR', 'ACAS', 'CBSA']\n"
          ]
        }
      ],
      "source": [
        "# your code below\n",
        "def portfolio_variance_random(df, N, seed=None):\n",
        "\n",
        "   selected = np.random.choice(df.columns, size=N, replace=False)\n",
        "   stocksN = df[selected].dropna(how='any')\n",
        "\n",
        "   w = np.full(N, 1/N)\n",
        "\n",
        "   Sigma = stocksN.cov(ddof=1)\n",
        "\n",
        "   var_monthly = float(w.T @ Sigma.values @ w)\n",
        "\n",
        "   var_annual = var_monthly * 12\n",
        "\n",
        "   return var_annual, list(selected)\n",
        "\n",
        "var5, chosen5 = portfolio_variance_random(df, 5, seed=42)\n",
        "print(\"Annualized variance (random 5 stocks):\", var5)\n",
        "print(\"Chosen stocks:\", chosen5)"
      ]
    },
    {
      "cell_type": "markdown",
      "metadata": {
        "id": "F37yHTxMhkiE"
      },
      "source": [
        "**Exercise 5. A simulation**\n",
        "\n",
        "\n",
        "Construct a function that that takes as an input the number of stocks N and then use the function above (excercise 4) to simulate 100 different portfolios and output the average of these 100 portfolios"
      ]
    },
    {
      "cell_type": "code",
      "execution_count": 14,
      "metadata": {
        "colab": {
          "base_uri": "https://localhost:8080/"
        },
        "id": "Z0sKYQffhkiE",
        "outputId": "04536616-3ca4-46ad-ad66-1c7e6767fd66"
      },
      "outputs": [
        {
          "output_type": "stream",
          "name": "stdout",
          "text": [
            "Average annualized variance (100 random 5-stock portfolios): 584.5348901386473\n"
          ]
        }
      ],
      "source": [
        "# your code below\n",
        "def simulate_portfolio_variance(df, N, num_sim=100):\n",
        "  vars_list = []\n",
        "\n",
        "  for _ in range(num_sim):\n",
        "      var_annual, _ = portfolio_variance_random(df, N)  # 调用 Exercise 4 的函数\n",
        "      vars_list.append(var_annual)\n",
        "\n",
        "  avg_var = np.mean(vars_list)\n",
        "\n",
        "  return avg_var, vars_list\n",
        "\n",
        "avg_var5, all_vars5 = simulate_portfolio_variance(df, 5, num_sim=100)\n",
        "print(\"Average annualized variance (100 random 5-stock portfolios):\", avg_var5)\n"
      ]
    },
    {
      "cell_type": "markdown",
      "metadata": {
        "id": "KsgEOJsyhkiE"
      },
      "source": [
        "**Exercise 6. A plot**\n",
        "\n",
        "\n",
        "Call the function above for N=1 to N=50 and plot the variance as function of N"
      ]
    },
    {
      "cell_type": "code",
      "execution_count": 15,
      "metadata": {
        "colab": {
          "base_uri": "https://localhost:8080/",
          "height": 487
        },
        "id": "5b9qxAfbhkiE",
        "outputId": "eb4b2af1-5a82-445e-b9d9-e932f031d1f6"
      },
      "outputs": [
        {
          "output_type": "display_data",
          "data": {
            "text/plain": [
              "<Figure size 800x500 with 1 Axes>"
            ],
            "image/png": "[encoded data removed]"
          },
          "metadata": {}
        }
      ],
      "source": [
        "# your code below\n",
        "N_range = range(1, 51)\n",
        "avg_vars = []\n",
        "\n",
        "for N in N_range:\n",
        "    avg_var, _ = simulate_portfolio_variance(df, N, num_sim=100)\n",
        "    avg_vars.append(avg_var)\n",
        "\n",
        "plt.figure(figsize=(8,5))\n",
        "plt.plot(N_range, avg_vars, marker='o')\n",
        "plt.xlabel(\"Number of Stocks in Portfolio (N)\")\n",
        "plt.ylabel(\"Annualized Variance\")\n",
        "plt.title(\"Diversification Effect: Variance vs Number of Stocks\")\n",
        "plt.grid(True)\n",
        "plt.show()\n"
      ]
    },
    {
      "cell_type": "markdown",
      "metadata": {
        "id": "ooMGSKW2hkiE"
      },
      "source": [
        "**Exercise 7. the market**\n",
        "\n",
        "\n",
        "Add the market variance to the plot as an horizontal line to the plot you made above"
      ]
    },
    {
      "cell_type": "code",
      "execution_count": null,
      "metadata": {
        "id": "OHDdvvOXhkiE"
      },
      "outputs": [],
      "source": [
        "# your code below\n",
        "\n"
      ]
    },
    {
      "cell_type": "markdown",
      "metadata": {
        "id": "v5ZLL08IhkiE"
      },
      "source": [
        "**Exercise 8. Interpretation**\n",
        "\n",
        "\n",
        "Explain what you see in the plot. Try to articulate what you think is happening"
      ]
    },
    {
      "cell_type": "markdown",
      "metadata": {
        "id": "tBeQ1hwIhkiE"
      },
      "source": [
        "your answer here"
      ]
    },
    {
      "cell_type": "markdown",
      "metadata": {
        "id": "q_Narc0ChkiE"
      },
      "source": [
        "**Exercise 9. A decomposition**\n",
        "\n",
        "\n",
        "We now want to build a function that outputs only the terms due to the variance terms\n",
        "\n",
        "That is, instead of computing $Var(WR)=W@Var(R)@W=\\sum_i\\sum_jW_iW_jCov(R_i,R_j)$ which gives you the variance of a portfolio with weight W,\n",
        "\n",
        "\n",
        "I want you do compute $\\sum_iW_i^2Var(R_i)$, this component of the portfolio variance that comes only from the variance terms\n",
        "\n",
        "Then subtract this term from the total variance term\n",
        "\n",
        "\n",
        "Show the three lines in a plot as functions of N (1. the total variance (and also the market like in exercise 7), 2. the component coming only from the variance terms, and 3. the residual (the component due to the covariance terms) )\n",
        "\n"
      ]
    },
    {
      "cell_type": "code",
      "execution_count": null,
      "metadata": {
        "id": "zuGkBl7yhkiE"
      },
      "outputs": [],
      "source": [
        "# your code below\n",
        "\n"
      ]
    },
    {
      "cell_type": "markdown",
      "metadata": {
        "id": "TWPc1b-ThkiE"
      },
      "source": [
        "**Exercise 10. Interpretation 2**\n",
        "\n",
        "\n",
        "looking at this new plot, what do you learn? What does that imply about portfolio construction?\n"
      ]
    },
    {
      "cell_type": "markdown",
      "metadata": {
        "id": "Z6LRtuFqhkiE"
      },
      "source": [
        "your answer here"
      ]
    },
    {
      "cell_type": "markdown",
      "metadata": {
        "id": "vHgSXB9HhkiE"
      },
      "source": [
        "**Exercise 11. Factor betas**\n",
        "\n",
        "Randomly select 10 stocks from `df` and draw a figure that plots the returns of these industries along with the market return.\n",
        "\n",
        "Just by looking, which seems seems to have the highest beta?\n",
        "\n",
        "Why is it important to measure beta correctly? i.e. explain how you can use beta to improve a trade that you have in one of these companies"
      ]
    },
    {
      "cell_type": "code",
      "execution_count": null,
      "metadata": {
        "id": "Q4-PF6-DhkiF"
      },
      "outputs": [],
      "source": [
        "# Your code below\n"
      ]
    },
    {
      "cell_type": "markdown",
      "metadata": {
        "id": "uXjjkzPshkiF"
      },
      "source": [
        "Your answer here"
      ]
    },
    {
      "cell_type": "markdown",
      "metadata": {
        "id": "LSC5kPGahkiF"
      },
      "source": [
        "**Exercise 12. Factor betas 2**\n",
        "\n",
        "Run regressions of all stocks in `df` on the market return you saved in `df_market`. Include intercepts in the regressions.\n",
        "\n",
        "Just follow the code below to run regressions.\n",
        "\n",
        "The coefficients to the market return are the betas to each industry.\n",
        "\n",
        "Now suppose you are a fund manager and you have a mandate to keep your beta equal to 0.5.\n",
        "\n",
        "Provide portfolio weights based on the regressions above to hit the mandate beta.\n",
        "\n",
        "Give at least *five* such portfolios that satisfy that restriction. At least one of these portfolios has to play in more than one stock at a time."
      ]
    },
    {
      "cell_type": "code",
      "execution_count": null,
      "metadata": {
        "id": "5dzZLQr3hkiF"
      },
      "outputs": [],
      "source": [
        "import statsmodels.api as sm\n",
        "\n",
        "X = # Put your market return here\n",
        "X = sm.add_constant(X)  # Adds a constant term to the predictor\n",
        "y = # Put industry returns here (perform regressions one-by-one)\n",
        "model = sm.OLS(y, X).fit(dropna=True)\n",
        "print(model.summary())\n",
        "\n",
        "# Your code below"
      ]
    },
    {
      "cell_type": "markdown",
      "metadata": {
        "id": "kmVMAnaZhkiF"
      },
      "source": [
        "**Exercise 13. Factor risk**\n",
        "\n",
        "Find beta-hedged portfolio returns using the five mandate portfolios you provided in Exercise 12.\n",
        "\n",
        "Draw a plot drawing these portfolio returns together.(i.e. spy in the x-axis, hedge portfolio in the y)\n",
        "\n",
        "Do they show any co-movement?  Can you say they are all \"risk free\"? In what sense they are free of risk and what sense they are not?"
      ]
    },
    {
      "cell_type": "code",
      "execution_count": null,
      "metadata": {
        "id": "2_7Zxe6vhkiF"
      },
      "outputs": [],
      "source": [
        "# Your code below"
      ]
    },
    {
      "cell_type": "markdown",
      "metadata": {
        "id": "w-Yo6kkAhkiF"
      },
      "source": [
        "Your answer here"
      ]
    },
    {
      "cell_type": "markdown",
      "metadata": {
        "id": "9vnG_lwBhkiF"
      },
      "source": [
        "**Exercise 14. Alphas**\n",
        "\n",
        "Let us assume that the risk-free rate is fixed at 0. (recall that we are working with returns here, so the intercept is not alpha, but alpha+(1-beta)(average rf))\n",
        "\n",
        "Then, the intercepts to regression in Exercise 12 can be interpreted as alphas\n",
        "\n",
        "Find the largest alpha stock and the lowest alpha stock from Exercise 12.\n",
        "\n",
        "If you were trying to pick one trade, would picking up the asset with the highest alpha the best that we can do?\n",
        "\n",
        "What other consideration might be relevant for your \"best\" strategy\n",
        "\n"
      ]
    },
    {
      "cell_type": "code",
      "execution_count": null,
      "metadata": {
        "id": "D2WVs7PwhkiF"
      },
      "outputs": [],
      "source": [
        "# Your code below"
      ]
    },
    {
      "cell_type": "markdown",
      "metadata": {
        "id": "IIKIfdO8hkiF"
      },
      "source": [
        "Your answer here"
      ]
    },
    {
      "cell_type": "markdown",
      "metadata": {
        "id": "JCZyRKmFhkiF"
      },
      "source": [
        "**Exercise 15. optional**\n",
        "\n",
        "Suppose you pick the portfolio that is best according to the criteria you outline above. Is that the best that we can do? Discuss how you could further improve your portfolio"
      ]
    }
  ],
  "metadata": {
    "colab": {
      "name": "Homework_2019_1.ipynb",
      "provenance": []
    },
    "kernelspec": {
      "display_name": "base",
      "language": "python",
      "name": "python3"
    },
    "language_info": {
      "codemirror_mode": {
        "name": "ipython",
        "version": 3
      },
      "file_extension": ".py",
      "mimetype": "text/x-python",
      "name": "python",
      "nbconvert_exporter": "python",
      "pygments_lexer": "ipython3",
      "version": "3.9.12"
    },
    "toc": {
      "base_numbering": 1,
      "nav_menu": {},
      "number_sections": true,
      "sideBar": true,
      "skip_h1_title": false,
      "title_cell": "Table of Contents",
      "title_sidebar": "Contents",
      "toc_cell": false,
      "toc_position": {},
      "toc_section_display": true,
      "toc_window_display": true
    },
    "toc-autonumbering": true
  },
  "nbformat": 4,
  "nbformat_minor": 0
}