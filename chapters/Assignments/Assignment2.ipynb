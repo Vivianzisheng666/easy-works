{
  "cells": [
    {
      "cell_type": "markdown",
      "metadata": {
        "id": "WI820A_Bp_NH"
      },
      "source": [
        "# Assignment 2\n",
        "\n"
      ]
    },
    {
      "cell_type": "markdown",
      "metadata": {
        "id": "wVAN3J3Vp_NJ"
      },
      "source": [
        "Write your Name and email below\n",
        "\n",
        "\n",
        "\n",
        "\n",
        "\n",
        "\n"
      ]
    },
    {
      "cell_type": "markdown",
      "metadata": {
        "id": "1neScggxn7jr"
      },
      "source": []
    },
    {
      "cell_type": "markdown",
      "metadata": {
        "id": "g-ydLSW4n7jr"
      },
      "source": [
        "**Exercise 1**\n",
        "\n",
        "Start by importing pandas, numpy, maplotlib, and loading the data set.\n",
        "\n",
        "The dataset has address\n",
        "\n",
        "`url='https://github.com/amoreira2/Fin418/blob/main/assets/data/Assignment1.xlsx?raw=true'`\n",
        "\n",
        "I strongly recommend you download first and look at the data set.\n",
        "\n",
        "This file contains multiple sheets, you should use `read_excel` to get the data that contains the 49 value-weighted industry portfolios.\n",
        "\n",
        "See here:https://pandas.pydata.org/pandas-docs/stable/reference/api/pandas.read_excel.html .\n",
        "\n",
        "Do the followings:\n",
        "\n",
        "1. Import this dataframe as `df_ind`\n",
        "    - Use \"sheet_name\" to select the desired excel sheet.\n",
        "    - Use \"skip_rows\" to skip the initial rows before the data. you want the header, i.e. , the column names to be included! This will be a integer, i.e. just a number like 5\n",
        "    - Figure out what is the code for missing value and change the option `na_values` appropriately. It will be in string format like that 'number'\n",
        "    - If you look at the excel file you will see that there are other data sets stacked horizontally. Use the `usecols` option to select the range of columns you want imported\n",
        "\n",
        "\n",
        "2. Change the name of the column with the date information to date\n",
        "\n",
        "3. Use `to_datetime` so python understand the column date as a datetime object (you will have to use the option format)\n",
        "\n",
        "4. Set date as index\n",
        "\n",
        "5. Call `df_ind.info()` so you check all the tasks were accomplished.\n",
        "\n",
        "6. In the next cell, call `df_ind.head()`"
      ]
    },
    {
      "cell_type": "code",
      "execution_count": 1,
      "metadata": {
        "id": "nfjxVWfFn7js",
        "outputId": "5da70342-3381-4838-e4e0-f7dfaba87121",
        "colab": {
          "base_uri": "https://localhost:8080/",
          "height": 108
        }
      },
      "outputs": [
        {
          "output_type": "error",
          "ename": "SyntaxError",
          "evalue": "invalid syntax. Perhaps you forgot a comma? (ipython-input-2941508214.py, line 14)",
          "traceback": [
            "\u001b[0;36m  File \u001b[0;32m\"/tmp/ipython-input-2941508214.py\"\u001b[0;36m, line \u001b[0;32m14\u001b[0m\n\u001b[0;31m    skiprows=put the number of the number of rows to skip here,\u001b[0m\n\u001b[0m             ^\u001b[0m\n\u001b[0;31mSyntaxError\u001b[0m\u001b[0;31m:\u001b[0m invalid syntax. Perhaps you forgot a comma?\n"
          ]
        }
      ],
      "source": [
        "# this imports the relevant libraries\n",
        "import numpy as np\n",
        "import pandas as pd\n",
        "import matplotlib.pyplot as plt\n",
        "from pandas.tseries.offsets import MonthEnd\n",
        "\n",
        "# this points to the location of the data\n",
        "url = 'Complete the URL to the data file here'\n",
        "\n",
        "# Import the data\n",
        "df_ind = pd.read_excel(\n",
        "    url,\n",
        "    sheet_name='complete the sheet name here',\n",
        "    skiprows=put the number of the number of rows to skip here,\n",
        "    na_values=['look at the data and figure out what is the code for missing value. put it here'],\n",
        "    usecols=\"A:AX\"\n",
        ")\n",
        "\n",
        "\n",
        "# Rename the column with date information\n",
        "df_ind.rename(columns={df_ind.columns[0]: 'date'}, inplace=True)\n",
        "\n",
        "# Convert the date column to datetime\n",
        "df_ind['date'] = pd.to_datetime(df_ind['date'], format='%Y%m')\n",
        "\n",
        "# Set date as the index\n",
        "df_ind.set_index('date', inplace=True)\n",
        "\n",
        "# Check the dataframe\n",
        "df_ind.info()\n"
      ]
    },
    {
      "cell_type": "code",
      "execution_count": null,
      "metadata": {
        "id": "C5vxzeVwn7jt",
        "outputId": "28d2b648-0816-4db9-d72e-dba7f5210f30"
      },
      "outputs": [
        {
          "data": {
            "text/html": [
              "<div>\n",
              "<style scoped>\n",
              "    .dataframe tbody tr th:only-of-type {\n",
              "        vertical-align: middle;\n",
              "    }\n",
              "\n",
              "    .dataframe tbody tr th {\n",
              "        vertical-align: top;\n",
              "    }\n",
              "\n",
              "    .dataframe thead th {\n",
              "        text-align: right;\n",
              "    }\n",
              "</style>\n",
              "<table border=\"1\" class=\"dataframe\">\n",
              "  <thead>\n",
              "    <tr style=\"text-align: right;\">\n",
              "      <th></th>\n",
              "      <th>Agric</th>\n",
              "      <th>Food</th>\n",
              "      <th>Soda</th>\n",
              "      <th>Beer</th>\n",
              "      <th>Smoke</th>\n",
              "      <th>Toys</th>\n",
              "      <th>Fun</th>\n",
              "      <th>Books</th>\n",
              "      <th>Hshld</th>\n",
              "      <th>Clths</th>\n",
              "      <th>...</th>\n",
              "      <th>Boxes</th>\n",
              "      <th>Trans</th>\n",
              "      <th>Whlsl</th>\n",
              "      <th>Rtail</th>\n",
              "      <th>Meals</th>\n",
              "      <th>Banks</th>\n",
              "      <th>Insur</th>\n",
              "      <th>RlEst</th>\n",
              "      <th>Fin</th>\n",
              "      <th>Other</th>\n",
              "    </tr>\n",
              "    <tr>\n",
              "      <th>date</th>\n",
              "      <th></th>\n",
              "      <th></th>\n",
              "      <th></th>\n",
              "      <th></th>\n",
              "      <th></th>\n",
              "      <th></th>\n",
              "      <th></th>\n",
              "      <th></th>\n",
              "      <th></th>\n",
              "      <th></th>\n",
              "      <th></th>\n",
              "      <th></th>\n",
              "      <th></th>\n",
              "      <th></th>\n",
              "      <th></th>\n",
              "      <th></th>\n",
              "      <th></th>\n",
              "      <th></th>\n",
              "      <th></th>\n",
              "      <th></th>\n",
              "      <th></th>\n",
              "    </tr>\n",
              "  </thead>\n",
              "  <tbody>\n",
              "    <tr>\n",
              "      <th>1926-07-01</th>\n",
              "      <td>2.37</td>\n",
              "      <td>0.12</td>\n",
              "      <td>NaN</td>\n",
              "      <td>-5.19</td>\n",
              "      <td>1.29</td>\n",
              "      <td>8.65</td>\n",
              "      <td>2.50</td>\n",
              "      <td>50.21</td>\n",
              "      <td>-0.48</td>\n",
              "      <td>8.08</td>\n",
              "      <td>...</td>\n",
              "      <td>7.70</td>\n",
              "      <td>1.94</td>\n",
              "      <td>-23.79</td>\n",
              "      <td>0.07</td>\n",
              "      <td>1.87</td>\n",
              "      <td>4.61</td>\n",
              "      <td>-0.54</td>\n",
              "      <td>2.89</td>\n",
              "      <td>-4.85</td>\n",
              "      <td>5.20</td>\n",
              "    </tr>\n",
              "    <tr>\n",
              "      <th>1926-08-01</th>\n",
              "      <td>2.23</td>\n",
              "      <td>2.68</td>\n",
              "      <td>NaN</td>\n",
              "      <td>27.03</td>\n",
              "      <td>6.50</td>\n",
              "      <td>16.81</td>\n",
              "      <td>-0.76</td>\n",
              "      <td>42.98</td>\n",
              "      <td>-3.58</td>\n",
              "      <td>-2.51</td>\n",
              "      <td>...</td>\n",
              "      <td>-2.38</td>\n",
              "      <td>4.88</td>\n",
              "      <td>5.39</td>\n",
              "      <td>-0.75</td>\n",
              "      <td>-0.13</td>\n",
              "      <td>11.83</td>\n",
              "      <td>2.57</td>\n",
              "      <td>5.30</td>\n",
              "      <td>-0.57</td>\n",
              "      <td>6.76</td>\n",
              "    </tr>\n",
              "    <tr>\n",
              "      <th>1926-09-01</th>\n",
              "      <td>-0.57</td>\n",
              "      <td>1.58</td>\n",
              "      <td>NaN</td>\n",
              "      <td>4.02</td>\n",
              "      <td>1.26</td>\n",
              "      <td>8.33</td>\n",
              "      <td>6.42</td>\n",
              "      <td>-4.91</td>\n",
              "      <td>0.73</td>\n",
              "      <td>-0.51</td>\n",
              "      <td>...</td>\n",
              "      <td>-5.54</td>\n",
              "      <td>0.06</td>\n",
              "      <td>-7.87</td>\n",
              "      <td>0.25</td>\n",
              "      <td>-0.56</td>\n",
              "      <td>-1.75</td>\n",
              "      <td>0.72</td>\n",
              "      <td>-3.06</td>\n",
              "      <td>-3.14</td>\n",
              "      <td>-3.86</td>\n",
              "    </tr>\n",
              "    <tr>\n",
              "      <th>1926-10-01</th>\n",
              "      <td>-0.46</td>\n",
              "      <td>-3.68</td>\n",
              "      <td>NaN</td>\n",
              "      <td>-3.31</td>\n",
              "      <td>1.06</td>\n",
              "      <td>-1.40</td>\n",
              "      <td>-5.09</td>\n",
              "      <td>5.37</td>\n",
              "      <td>-4.68</td>\n",
              "      <td>0.12</td>\n",
              "      <td>...</td>\n",
              "      <td>-5.08</td>\n",
              "      <td>-2.64</td>\n",
              "      <td>-15.38</td>\n",
              "      <td>-2.20</td>\n",
              "      <td>-4.11</td>\n",
              "      <td>-11.82</td>\n",
              "      <td>-4.28</td>\n",
              "      <td>-5.74</td>\n",
              "      <td>2.07</td>\n",
              "      <td>-8.49</td>\n",
              "    </tr>\n",
              "    <tr>\n",
              "      <th>1926-11-01</th>\n",
              "      <td>6.75</td>\n",
              "      <td>6.26</td>\n",
              "      <td>NaN</td>\n",
              "      <td>7.29</td>\n",
              "      <td>4.55</td>\n",
              "      <td>0.00</td>\n",
              "      <td>1.82</td>\n",
              "      <td>-6.40</td>\n",
              "      <td>-0.54</td>\n",
              "      <td>1.87</td>\n",
              "      <td>...</td>\n",
              "      <td>3.84</td>\n",
              "      <td>1.60</td>\n",
              "      <td>4.67</td>\n",
              "      <td>6.52</td>\n",
              "      <td>4.33</td>\n",
              "      <td>-2.97</td>\n",
              "      <td>3.58</td>\n",
              "      <td>2.21</td>\n",
              "      <td>4.92</td>\n",
              "      <td>4.00</td>\n",
              "    </tr>\n",
              "    <tr>\n",
              "      <th>...</th>\n",
              "      <td>...</td>\n",
              "      <td>...</td>\n",
              "      <td>...</td>\n",
              "      <td>...</td>\n",
              "      <td>...</td>\n",
              "      <td>...</td>\n",
              "      <td>...</td>\n",
              "      <td>...</td>\n",
              "      <td>...</td>\n",
              "      <td>...</td>\n",
              "      <td>...</td>\n",
              "      <td>...</td>\n",
              "      <td>...</td>\n",
              "      <td>...</td>\n",
              "      <td>...</td>\n",
              "      <td>...</td>\n",
              "      <td>...</td>\n",
              "      <td>...</td>\n",
              "      <td>...</td>\n",
              "      <td>...</td>\n",
              "      <td>...</td>\n",
              "    </tr>\n",
              "    <tr>\n",
              "      <th>2015-03-01</th>\n",
              "      <td>-5.28</td>\n",
              "      <td>2.47</td>\n",
              "      <td>-4.64</td>\n",
              "      <td>-2.07</td>\n",
              "      <td>-8.82</td>\n",
              "      <td>-4.11</td>\n",
              "      <td>-2.35</td>\n",
              "      <td>0.48</td>\n",
              "      <td>-1.98</td>\n",
              "      <td>1.23</td>\n",
              "      <td>...</td>\n",
              "      <td>-3.25</td>\n",
              "      <td>-3.62</td>\n",
              "      <td>0.61</td>\n",
              "      <td>0.99</td>\n",
              "      <td>-0.29</td>\n",
              "      <td>-0.83</td>\n",
              "      <td>2.28</td>\n",
              "      <td>3.91</td>\n",
              "      <td>-0.57</td>\n",
              "      <td>-2.13</td>\n",
              "    </tr>\n",
              "    <tr>\n",
              "      <th>2015-04-01</th>\n",
              "      <td>1.07</td>\n",
              "      <td>-0.23</td>\n",
              "      <td>-0.43</td>\n",
              "      <td>-0.52</td>\n",
              "      <td>5.94</td>\n",
              "      <td>9.25</td>\n",
              "      <td>2.62</td>\n",
              "      <td>-4.07</td>\n",
              "      <td>-2.41</td>\n",
              "      <td>-1.53</td>\n",
              "      <td>...</td>\n",
              "      <td>-1.72</td>\n",
              "      <td>-1.14</td>\n",
              "      <td>-1.20</td>\n",
              "      <td>-2.88</td>\n",
              "      <td>0.51</td>\n",
              "      <td>2.13</td>\n",
              "      <td>-1.78</td>\n",
              "      <td>-2.72</td>\n",
              "      <td>0.48</td>\n",
              "      <td>0.34</td>\n",
              "    </tr>\n",
              "    <tr>\n",
              "      <th>2015-05-01</th>\n",
              "      <td>3.43</td>\n",
              "      <td>2.82</td>\n",
              "      <td>0.20</td>\n",
              "      <td>2.00</td>\n",
              "      <td>1.28</td>\n",
              "      <td>-3.63</td>\n",
              "      <td>1.68</td>\n",
              "      <td>2.02</td>\n",
              "      <td>0.39</td>\n",
              "      <td>0.04</td>\n",
              "      <td>...</td>\n",
              "      <td>0.33</td>\n",
              "      <td>-3.06</td>\n",
              "      <td>1.42</td>\n",
              "      <td>0.53</td>\n",
              "      <td>1.56</td>\n",
              "      <td>2.61</td>\n",
              "      <td>4.64</td>\n",
              "      <td>0.68</td>\n",
              "      <td>2.07</td>\n",
              "      <td>0.84</td>\n",
              "    </tr>\n",
              "    <tr>\n",
              "      <th>2015-06-01</th>\n",
              "      <td>-7.59</td>\n",
              "      <td>-0.79</td>\n",
              "      <td>-2.34</td>\n",
              "      <td>-1.71</td>\n",
              "      <td>-2.57</td>\n",
              "      <td>0.46</td>\n",
              "      <td>1.42</td>\n",
              "      <td>0.20</td>\n",
              "      <td>-0.11</td>\n",
              "      <td>4.17</td>\n",
              "      <td>...</td>\n",
              "      <td>-3.34</td>\n",
              "      <td>-3.25</td>\n",
              "      <td>-2.80</td>\n",
              "      <td>-0.48</td>\n",
              "      <td>0.29</td>\n",
              "      <td>1.67</td>\n",
              "      <td>2.17</td>\n",
              "      <td>-2.98</td>\n",
              "      <td>-0.58</td>\n",
              "      <td>-3.84</td>\n",
              "    </tr>\n",
              "    <tr>\n",
              "      <th>2015-07-01</th>\n",
              "      <td>-2.75</td>\n",
              "      <td>3.55</td>\n",
              "      <td>6.68</td>\n",
              "      <td>3.51</td>\n",
              "      <td>9.59</td>\n",
              "      <td>-3.85</td>\n",
              "      <td>8.00</td>\n",
              "      <td>-2.99</td>\n",
              "      <td>0.97</td>\n",
              "      <td>5.97</td>\n",
              "      <td>...</td>\n",
              "      <td>-0.90</td>\n",
              "      <td>3.27</td>\n",
              "      <td>-1.30</td>\n",
              "      <td>5.78</td>\n",
              "      <td>4.15</td>\n",
              "      <td>2.67</td>\n",
              "      <td>1.66</td>\n",
              "      <td>1.55</td>\n",
              "      <td>0.25</td>\n",
              "      <td>2.85</td>\n",
              "    </tr>\n",
              "  </tbody>\n",
              "</table>\n",
              "<p>1069 rows × 49 columns</p>\n",
              "</div>"
            ],
            "text/plain": [
              "            Agric  Food  Soda   Beer  Smoke   Toys   Fun  Books  Hshld  Clths  \\\n",
              "date                                                                            \n",
              "1926-07-01   2.37  0.12   NaN  -5.19   1.29   8.65  2.50  50.21  -0.48   8.08   \n",
              "1926-08-01   2.23  2.68   NaN  27.03   6.50  16.81 -0.76  42.98  -3.58  -2.51   \n",
              "1926-09-01  -0.57  1.58   NaN   4.02   1.26   8.33  6.42  -4.91   0.73  -0.51   \n",
              "1926-10-01  -0.46 -3.68   NaN  -3.31   1.06  -1.40 -5.09   5.37  -4.68   0.12   \n",
              "1926-11-01   6.75  6.26   NaN   7.29   4.55   0.00  1.82  -6.40  -0.54   1.87   \n",
              "...           ...   ...   ...    ...    ...    ...   ...    ...    ...    ...   \n",
              "2015-03-01  -5.28  2.47 -4.64  -2.07  -8.82  -4.11 -2.35   0.48  -1.98   1.23   \n",
              "2015-04-01   1.07 -0.23 -0.43  -0.52   5.94   9.25  2.62  -4.07  -2.41  -1.53   \n",
              "2015-05-01   3.43  2.82  0.20   2.00   1.28  -3.63  1.68   2.02   0.39   0.04   \n",
              "2015-06-01  -7.59 -0.79 -2.34  -1.71  -2.57   0.46  1.42   0.20  -0.11   4.17   \n",
              "2015-07-01  -2.75  3.55  6.68   3.51   9.59  -3.85  8.00  -2.99   0.97   5.97   \n",
              "\n",
              "            ...  Boxes  Trans  Whlsl  Rtail  Meals  Banks  Insur  RlEst   Fin  \\\n",
              "date        ...                                                                 \n",
              "1926-07-01  ...   7.70   1.94 -23.79   0.07   1.87   4.61  -0.54   2.89 -4.85   \n",
              "1926-08-01  ...  -2.38   4.88   5.39  -0.75  -0.13  11.83   2.57   5.30 -0.57   \n",
              "1926-09-01  ...  -5.54   0.06  -7.87   0.25  -0.56  -1.75   0.72  -3.06 -3.14   \n",
              "1926-10-01  ...  -5.08  -2.64 -15.38  -2.20  -4.11 -11.82  -4.28  -5.74  2.07   \n",
              "1926-11-01  ...   3.84   1.60   4.67   6.52   4.33  -2.97   3.58   2.21  4.92   \n",
              "...         ...    ...    ...    ...    ...    ...    ...    ...    ...   ...   \n",
              "2015-03-01  ...  -3.25  -3.62   0.61   0.99  -0.29  -0.83   2.28   3.91 -0.57   \n",
              "2015-04-01  ...  -1.72  -1.14  -1.20  -2.88   0.51   2.13  -1.78  -2.72  0.48   \n",
              "2015-05-01  ...   0.33  -3.06   1.42   0.53   1.56   2.61   4.64   0.68  2.07   \n",
              "2015-06-01  ...  -3.34  -3.25  -2.80  -0.48   0.29   1.67   2.17  -2.98 -0.58   \n",
              "2015-07-01  ...  -0.90   3.27  -1.30   5.78   4.15   2.67   1.66   1.55  0.25   \n",
              "\n",
              "            Other  \n",
              "date               \n",
              "1926-07-01   5.20  \n",
              "1926-08-01   6.76  \n",
              "1926-09-01  -3.86  \n",
              "1926-10-01  -8.49  \n",
              "1926-11-01   4.00  \n",
              "...           ...  \n",
              "2015-03-01  -2.13  \n",
              "2015-04-01   0.34  \n",
              "2015-05-01   0.84  \n",
              "2015-06-01  -3.84  \n",
              "2015-07-01   2.85  \n",
              "\n",
              "[1069 rows x 49 columns]"
            ]
          },
          "execution_count": 3,
          "metadata": {},
          "output_type": "execute_result"
        }
      ],
      "source": [
        "df_ind"
      ]
    },
    {
      "cell_type": "markdown",
      "metadata": {
        "id": "dvNwUvprn7jt"
      },
      "source": [
        "**Exercise 2. Advanced date manipulation**\n",
        "\n",
        "1. convert the date from the start of the month to end of the month.\n",
        "\n",
        "2. call `df_ind.head()` and verify it works\n",
        "\n",
        "**_Hint:_**\n",
        "\n",
        "* Read this link: https://stackoverflow.com/questions/37354105/find-the-end-of-the-month-of-a-pandas-dataframe-series.\n",
        "If you google \"pandas end of month\" that is the first thing that comes out. Read the answer and apply to your problem.\n",
        "\n",
        "* you aready set date as index, so you cannot do stuff like `df_ind.date` or `df_ind['date']`  and have to adjust the code accordingly. Think about how to access the index.\n"
      ]
    },
    {
      "cell_type": "code",
      "execution_count": null,
      "metadata": {
        "id": "xOY9_aMdn7jt"
      },
      "outputs": [],
      "source": [
        "# your code below\n",
        "\n",
        "df_ind.head()"
      ]
    },
    {
      "cell_type": "markdown",
      "metadata": {
        "id": "cNS6Ckwin7jt"
      },
      "source": [
        "**Exercise 3. Importing risk-free rate**\n",
        "\n",
        "1. In this same file there is another sheet with market returns and the risk-free rate. Import them as `df_rmrf` by following all the steps you did in the above two questions\n",
        "\n",
        "2. Call `df_rmrf.info()` so you check all the tasks were accomplished.\n",
        "\n",
        "3. In the next cell, call `df_rmrf.head()`"
      ]
    },
    {
      "cell_type": "code",
      "execution_count": null,
      "metadata": {
        "id": "pvN6jCNon7jt"
      },
      "outputs": [],
      "source": [
        "# your code below\n"
      ]
    },
    {
      "cell_type": "markdown",
      "metadata": {
        "id": "K90SnDg-n7ju"
      },
      "source": [
        "**Exercise 4. Constructing excess returns A**\n",
        "\n",
        "1. for the industry `Agric`, construct the excess return by subtracting the risk-free rate RF from it.\n",
        "\n",
        "2. compute the mean of this excess return.\n",
        "\n",
        "3. print it along with the mean of the raw returns and the risk free rate to compare"
      ]
    },
    {
      "cell_type": "code",
      "execution_count": null,
      "metadata": {
        "id": "4QYGSFc-n7ju"
      },
      "outputs": [],
      "source": [
        "# your code below\n"
      ]
    },
    {
      "cell_type": "markdown",
      "metadata": {
        "id": "kPilkBW0n7ju"
      },
      "source": [
        "**Exercise 5. Constructing excess returns B**\n",
        "\n",
        "1. construct excess returns for all portfolio by subtracting the risk-free rate from all of columns at the same time\n",
        "2. name the new data frame `df_inde` ( for excess returns)\n",
        "\n",
        "**_Hint:_**\n",
        "* You can do that using the method `.subtract()` with the option axis to tell along which dimension\n",
        "\n",
        "* Go ahead , google \"pandas subtract\" to see how this works"
      ]
    },
    {
      "cell_type": "code",
      "execution_count": null,
      "metadata": {
        "id": "iMhw4m5mn7ju"
      },
      "outputs": [],
      "source": [
        "# your code below\n",
        "\n",
        "df_inde.head()"
      ]
    },
    {
      "cell_type": "markdown",
      "metadata": {
        "id": "nyan6wObn7ju"
      },
      "source": [
        "**Exercise 6. Drop missing observations**\n",
        "\n",
        "You may notice that excess returns of some industries are not available at the beginning of the sample.\n",
        "\n",
        "If we want all the industries to have same period of data in `df_inde`, we need to drop some observations.\n",
        "\n",
        "Do the followings:\n",
        "\n",
        "1. Use method `dropna` to drop rows in `df_inde` if **ANY** industry is missing.\n",
        "\n",
        "2. After that, `print(df_inde.shape)` to see the changes in the length.\n",
        "\n",
        "**_Hint_**\n",
        "* when you call `dropna` function, use `axis` and `how` option to drop missing values if **ANY** industry is missing"
      ]
    },
    {
      "cell_type": "code",
      "execution_count": null,
      "metadata": {
        "id": "Xvy9E93Mn7ju"
      },
      "outputs": [],
      "source": [
        "# your code below\n"
      ]
    },
    {
      "cell_type": "markdown",
      "metadata": {
        "id": "T5Hs12h0n7ju"
      },
      "source": [
        "**Exercise 7. Moments**\n",
        "\n",
        "We will now estimate the risk-premium in each of these portfolio and the covariance between these portfolios.\n",
        "\n",
        "Do the followings:\n",
        "\n",
        "1. using the method `mean` on the excess return data frame to obtain a vector of average excess returns.\n",
        "\n",
        "2. Using `std` construct an estimator for each asset standard deviation.\n",
        "\n",
        "2. use `cov` method to estimate the covariance of excess returns.\n",
        "\n",
        "3. Discuss in each units these variables are\n",
        "\n"
      ]
    },
    {
      "cell_type": "code",
      "execution_count": null,
      "metadata": {
        "id": "6sJ59cvhn7ju"
      },
      "outputs": [],
      "source": [
        "# your code below\n"
      ]
    },
    {
      "cell_type": "code",
      "execution_count": null,
      "metadata": {
        "id": "7tGiXqNSn7ju"
      },
      "outputs": [],
      "source": [
        "ERe.head()"
      ]
    },
    {
      "cell_type": "code",
      "execution_count": null,
      "metadata": {
        "id": "TlgYitxIn7ju"
      },
      "outputs": [],
      "source": [
        "CovRe.head()"
      ]
    },
    {
      "cell_type": "markdown",
      "metadata": {
        "id": "78LbbWNin7ju"
      },
      "source": [
        "**Exercise 8. Plotting**\n",
        "\n",
        "\n",
        "Choose a couple of industry portfolios to plot their time-series.\n",
        "\n",
        "Use the behavior of these two assets to discuss an important economic event in US history\n",
        "\n",
        "as you discuss make sure to use the magnitudes in your discussion to show that you do understand what this data means\n",
        "\n"
      ]
    },
    {
      "cell_type": "code",
      "execution_count": null,
      "metadata": {
        "id": "DrEJcDDPn7ju"
      },
      "outputs": [],
      "source": [
        "# your code below\n"
      ]
    },
    {
      "cell_type": "markdown",
      "metadata": {
        "id": "eApFKmKMn7ju"
      },
      "source": [
        "**Exercise 9. Cumulative returns**\n",
        "\n",
        "\n",
        "Choose two industry portfolios to plot the cumulative returns over time.\n",
        "\n",
        "You can plot for the whole period or just a subperiod.\n",
        "\n",
        "You should explain what the numbers mean in terms of how much money people would have if they had invested in these assets"
      ]
    },
    {
      "cell_type": "code",
      "execution_count": null,
      "metadata": {
        "id": "F4lPR-aen7ju"
      },
      "outputs": [],
      "source": []
    },
    {
      "cell_type": "code",
      "execution_count": null,
      "metadata": {
        "id": "u0N30_EFn7ju"
      },
      "outputs": [],
      "source": []
    }
  ],
  "metadata": {
    "colab": {
      "name": "Homework_2019_1.ipynb",
      "provenance": []
    },
    "kernelspec": {
      "display_name": "base",
      "language": "python",
      "name": "python3"
    },
    "language_info": {
      "codemirror_mode": {
        "name": "ipython",
        "version": 3
      },
      "file_extension": ".py",
      "mimetype": "text/x-python",
      "name": "python",
      "nbconvert_exporter": "python",
      "pygments_lexer": "ipython3",
      "version": "3.9.19"
    },
    "toc": {
      "base_numbering": 1,
      "nav_menu": {},
      "number_sections": true,
      "sideBar": true,
      "skip_h1_title": false,
      "title_cell": "Table of Contents",
      "title_sidebar": "Contents",
      "toc_cell": false,
      "toc_position": {},
      "toc_section_display": true,
      "toc_window_display": true
    },
    "toc-autonumbering": true
  },
  "nbformat": 4,
  "nbformat_minor": 0
}